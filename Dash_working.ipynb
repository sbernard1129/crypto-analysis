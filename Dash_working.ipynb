{
 "cells": [
  {
   "cell_type": "code",
   "execution_count": 170,
   "metadata": {},
   "outputs": [],
   "source": [
    "# imports\n",
    "import panel as pn\n",
    "pn.extension('plotly')\n",
    "import plotly.express as px\n",
    "import pandas as pd\n",
    "import numpy as np\n",
    "import hvplot.pandas\n",
    "import matplotlib.pyplot as plt\n",
    "import os\n",
    "from pathlib import Path\n",
    "from dotenv import load_dotenv"
   ]
  },
  {
   "cell_type": "code",
   "execution_count": 171,
   "metadata": {},
   "outputs": [
    {
     "data": {
      "text/html": [
       "<div>\n",
       "<style scoped>\n",
       "    .dataframe tbody tr th:only-of-type {\n",
       "        vertical-align: middle;\n",
       "    }\n",
       "\n",
       "    .dataframe tbody tr th {\n",
       "        vertical-align: top;\n",
       "    }\n",
       "\n",
       "    .dataframe thead th {\n",
       "        text-align: right;\n",
       "    }\n",
       "</style>\n",
       "<table border=\"1\" class=\"dataframe\">\n",
       "  <thead>\n",
       "    <tr style=\"text-align: right;\">\n",
       "      <th></th>\n",
       "      <th>price</th>\n",
       "      <th>market_cap</th>\n",
       "      <th>volume</th>\n",
       "    </tr>\n",
       "    <tr>\n",
       "      <th>name</th>\n",
       "      <th></th>\n",
       "      <th></th>\n",
       "      <th></th>\n",
       "    </tr>\n",
       "  </thead>\n",
       "  <tbody>\n",
       "    <tr>\n",
       "      <th>BTC</th>\n",
       "      <td>15258.00</td>\n",
       "      <td>282722040430</td>\n",
       "      <td>8907998000</td>\n",
       "    </tr>\n",
       "    <tr>\n",
       "      <th>ETH</th>\n",
       "      <td>400.00</td>\n",
       "      <td>50530052456</td>\n",
       "      <td>4024715113</td>\n",
       "    </tr>\n",
       "    <tr>\n",
       "      <th>LINK</th>\n",
       "      <td>12.50</td>\n",
       "      <td>4870588545</td>\n",
       "      <td>667605856</td>\n",
       "    </tr>\n",
       "    <tr>\n",
       "      <th>DOT</th>\n",
       "      <td>4.35</td>\n",
       "      <td>4053253172</td>\n",
       "      <td>173888050</td>\n",
       "    </tr>\n",
       "    <tr>\n",
       "      <th>S&amp;P 500</th>\n",
       "      <td>3509.43</td>\n",
       "      <td>27000000000000</td>\n",
       "      <td>2168000000</td>\n",
       "    </tr>\n",
       "  </tbody>\n",
       "</table>\n",
       "</div>"
      ],
      "text/plain": [
       "            price      market_cap      volume\n",
       "name                                         \n",
       "BTC      15258.00    282722040430  8907998000\n",
       "ETH        400.00     50530052456  4024715113\n",
       "LINK        12.50      4870588545   667605856\n",
       "DOT          4.35      4053253172   173888050\n",
       "S&P 500   3509.43  27000000000000  2168000000"
      ]
     },
     "execution_count": 171,
     "metadata": {},
     "output_type": "execute_result"
    }
   ],
   "source": [
    "# Import the CSVs to Pandas DataFrames\n",
    "file_path = Path(\"test_data.csv\")\n",
    "test_data = pd.read_csv(file_path, index_col=\"name\")\n",
    "test_data"
   ]
  },
  {
   "cell_type": "code",
   "execution_count": 172,
   "metadata": {},
   "outputs": [
    {
     "data": {
      "text/plain": [
       "<AxesSubplot:xlabel='name'>"
      ]
     },
     "execution_count": 172,
     "metadata": {},
     "output_type": "execute_result"
    },
    {
     "data": {
      "image/png": "[encoded data removed]",
      "text/plain": [
       "<Figure size 432x288 with 1 Axes>"
      ]
     },
     "metadata": {},
     "output_type": "display_data"
    }
   ],
   "source": [
    "test_plot = test_data.plot.bar(y=\"price\")\n",
    "test_plot"
   ]
  },
  {
   "cell_type": "code",
   "execution_count": 173,
   "metadata": {},
   "outputs": [
    {
     "data": {
      "text/html": [
       "<div>\n",
       "<style scoped>\n",
       "    .dataframe tbody tr th:only-of-type {\n",
       "        vertical-align: middle;\n",
       "    }\n",
       "\n",
       "    .dataframe tbody tr th {\n",
       "        vertical-align: top;\n",
       "    }\n",
       "\n",
       "    .dataframe thead th {\n",
       "        text-align: right;\n",
       "    }\n",
       "</style>\n",
       "<table border=\"1\" class=\"dataframe\">\n",
       "  <thead>\n",
       "    <tr style=\"text-align: right;\">\n",
       "      <th></th>\n",
       "      <th>price</th>\n",
       "      <th>market_cap</th>\n",
       "      <th>volume</th>\n",
       "    </tr>\n",
       "  </thead>\n",
       "  <tbody>\n",
       "    <tr>\n",
       "      <th>price</th>\n",
       "      <td>1.000000</td>\n",
       "      <td>-0.018449</td>\n",
       "      <td>0.907353</td>\n",
       "    </tr>\n",
       "    <tr>\n",
       "      <th>market_cap</th>\n",
       "      <td>-0.018449</td>\n",
       "      <td>1.000000</td>\n",
       "      <td>-0.152406</td>\n",
       "    </tr>\n",
       "    <tr>\n",
       "      <th>volume</th>\n",
       "      <td>0.907353</td>\n",
       "      <td>-0.152406</td>\n",
       "      <td>1.000000</td>\n",
       "    </tr>\n",
       "  </tbody>\n",
       "</table>\n",
       "</div>"
      ],
      "text/plain": [
       "               price  market_cap    volume\n",
       "price       1.000000   -0.018449  0.907353\n",
       "market_cap -0.018449    1.000000 -0.152406\n",
       "volume      0.907353   -0.152406  1.000000"
      ]
     },
     "execution_count": 173,
     "metadata": {},
     "output_type": "execute_result"
    }
   ],
   "source": [
    "correlation = test_data.corr()\n",
    "correlation"
   ]
  },
  {
   "cell_type": "code",
   "execution_count": 174,
   "metadata": {},
   "outputs": [
    {
     "data": {
      "image/png": "[encoded data removed]",
      "text/plain": [
       "<Figure size 288x288 with 1 Axes>"
      ]
     },
     "metadata": {},
     "output_type": "display_data"
    }
   ],
   "source": [
    "correlation_map = plt.matshow(test_data.corr())\n",
    "plt.show()"
   ]
  },
  {
   "cell_type": "code",
   "execution_count": 175,
   "metadata": {},
   "outputs": [],
   "source": [
    "# Define Panel Visualization Functions\n",
    "def test_bar():\n",
    "    test_bar = plt.test_data.plot.bar(y=\"price\")\n",
    "    fig_test_bar = plt.figure()\n",
    "    plt.close(fig_test_bar)\n",
    "    return plt.test_data.plot.bar\n",
    "\n",
    "def correlation_map():\n",
    "    correlation_map = plt.matshow(test_data.corr())\n",
    "    fig_correlation_map = plt.figure()\n",
    "    plt.close(fig_correlation_map)\n",
    "    return plt.matshow(test_data.corr())\n"
   ]
  },
  {
   "cell_type": "code",
   "execution_count": 176,
   "metadata": {},
   "outputs": [
    {
     "ename": "SyntaxError",
     "evalue": "invalid syntax (<ipython-input-176-63a16a8490f3>, line 7)",
     "output_type": "error",
     "traceback": [
      "\u001b[0;36m  File \u001b[0;32m\"<ipython-input-176-63a16a8490f3>\"\u001b[0;36m, line \u001b[0;32m7\u001b[0m\n\u001b[0;31m    column = pn.Column(\u001b[0m\n\u001b[0m         ^\u001b[0m\n\u001b[0;31mSyntaxError\u001b[0m\u001b[0;31m:\u001b[0m invalid syntax\n"
     ]
    }
   ],
   "source": [
    "row_1 = pn.Row(\n",
    "    test_bar(),\n",
    "row_2 = pn.Row(\n",
    "    correlation_map(), test_bar()\n",
    ")\n",
    "\n",
    "column = pn.Column(\n",
    "    \"##User Input\",\n",
    "    test_bar(),\n",
    "    correlation_map()\n",
    ")\n",
    "  \n",
    "title = pn.pane.Markdown(\n",
    "    \" #Crypto Analyzer\",\n",
    "    background=\"#969696\", \n",
    "    width=400, \n",
    "    height=50\n",
    ")\n",
    "\n",
    "test_dashboard = pn.Tabs(\n",
    "    (\"Overview\"),\n",
    "    (\"Coin Selection\", column),\n",
    "    (\"Returns and Market Cap\", test_bar),\n",
    "    (\"Correlation\", correlation_map),\n",
    "    (\"Stand Dev Beta\", test_bar),\n",
    "    (\"Fourth Result\", correlation_map),\n",
    "    (\"Conclusion\"),\n",
    "    dynamic=True\n",
    ")\n",
    "test_dashboard_final = pn.Column(title, test_dashboard)"
   ]
  },
  {
   "cell_type": "code",
   "execution_count": 177,
   "metadata": {},
   "outputs": [
    {
     "data": {
      "application/vnd.holoviews_exec.v0+json": "",
      "text/html": [
       "<div id='1331'>\n",
       "\n",
       "\n",
       "\n",
       "\n",
       "\n",
       "  <div class=\"bk-root\" id=\"b3eeba24-2763-4a6f-b205-5adb41b47a6c\" data-root-id=\"1331\"></div>\n",
       "</div>\n",
       "<script type=\"application/javascript\">(function(root) {\n",
       "  function embed_document(root) {\n",
       "  var docs_json = {\"da060a30-10ad-4497-8111-4e6742d3f6bd\":{\"roots\":{\"references\":[{\"attributes\":{\"child\":{\"id\":\"1334\"},\"name\":\"Markdown02155\",\"title\":\"Markdown\"},\"id\":\"1335\",\"type\":\"Panel\"},{\"attributes\":{\"background\":\"#969696\",\"css_classes\":[\"markdown\"],\"height\":50,\"margin\":[5,5,5,5],\"name\":\"Markdown02153\",\"sizing_mode\":\"fixed\",\"text\":\"&lt;h1&gt;Crypto Analyzer&lt;/h1&gt;\",\"width\":400},\"id\":\"1332\",\"type\":\"panel.models.markup.HTML\"},{\"attributes\":{\"css_classes\":null,\"margin\":[0,0,0,0],\"name\":\"Column02158\"},\"id\":\"1338\",\"type\":\"Spacer\"},{\"attributes\":{\"client_comm_id\":\"98328857ffe34113a51de0d9fa027907\",\"comm_id\":\"22111ab9843a487c90a47b0919f38555\",\"plot_id\":\"1331\"},\"id\":\"1348\",\"type\":\"panel.models.comm_manager.CommManager\"},{\"attributes\":{\"children\":[{\"id\":\"1332\"},{\"id\":\"1333\"}],\"margin\":[0,0,0,0],\"name\":\"Column02184\"},\"id\":\"1331\",\"type\":\"Column\"},{\"attributes\":{\"css_classes\":null,\"margin\":[0,0,0,0],\"name\":\"Column02176\"},\"id\":\"1344\",\"type\":\"Spacer\"},{\"attributes\":{\"child\":{\"id\":\"1344\"},\"name\":\"Column02176\",\"title\":\"Fourth Result\"},\"id\":\"1345\",\"type\":\"Panel\"},{\"attributes\":{\"css_classes\":null,\"margin\":[0,0,0,0],\"name\":\"Column02170\"},\"id\":\"1342\",\"type\":\"Spacer\"},{\"attributes\":{\"css_classes\":null,\"margin\":[0,0,0,0],\"name\":\"Column02164\"},\"id\":\"1340\",\"type\":\"Spacer\"},{\"attributes\":{\"child\":{\"id\":\"1346\"},\"name\":\"Markdown02181\",\"title\":\"Markdown\"},\"id\":\"1347\",\"type\":\"Panel\"},{\"attributes\":{\"css_classes\":[\"markdown\"],\"margin\":[5,5,5,5],\"name\":\"Markdown02155\",\"text\":\"&lt;p&gt;Overview&lt;/p&gt;\"},\"id\":\"1334\",\"type\":\"panel.models.markup.HTML\"},{\"attributes\":{\"margin\":[0,0,0,0],\"tabs\":[{\"id\":\"1335\"},{\"id\":\"1337\"},{\"id\":\"1339\"},{\"id\":\"1341\"},{\"id\":\"1343\"},{\"id\":\"1345\"},{\"id\":\"1347\"}]},\"id\":\"1333\",\"type\":\"Tabs\"},{\"attributes\":{\"child\":{\"id\":\"1336\"},\"name\":\"Column02152\",\"title\":\"Coin Selection\"},\"id\":\"1337\",\"type\":\"Panel\"},{\"attributes\":{\"child\":{\"id\":\"1338\"},\"name\":\"Column02158\",\"title\":\"Returns and Market Cap\"},\"id\":\"1339\",\"type\":\"Panel\"},{\"attributes\":{\"child\":{\"id\":\"1340\"},\"name\":\"Column02164\",\"title\":\"Correlation\"},\"id\":\"1341\",\"type\":\"Panel\"},{\"attributes\":{\"child\":{\"id\":\"1342\"},\"name\":\"Column02170\",\"title\":\"Stand Dev Beta\"},\"id\":\"1343\",\"type\":\"Panel\"},{\"attributes\":{\"css_classes\":null,\"margin\":[5,5,5,5],\"name\":\"Markdown02181\"},\"id\":\"1346\",\"type\":\"Spacer\"},{\"attributes\":{\"css_classes\":null,\"margin\":[0,0,0,0],\"name\":\"Column02152\"},\"id\":\"1336\",\"type\":\"Spacer\"}],\"root_ids\":[\"1331\",\"1348\"]},\"title\":\"Bokeh Application\",\"version\":\"2.2.2\"}};\n",
       "  var render_items = [{\"docid\":\"da060a30-10ad-4497-8111-4e6742d3f6bd\",\"root_ids\":[\"1331\"],\"roots\":{\"1331\":\"b3eeba24-2763-4a6f-b205-5adb41b47a6c\"}}];\n",
       "  root.Bokeh.embed.embed_items_notebook(docs_json, render_items);\n",
       "  }\n",
       "if (root.Bokeh !== undefined) {\n",
       "    embed_document(root);\n",
       "  } else {\n",
       "    var attempts = 0;\n",
       "    var timer = setInterval(function(root) {\n",
       "      if (root.Bokeh !== undefined) {\n",
       "        clearInterval(timer);\n",
       "        embed_document(root);\n",
       "      } else if (document.readyState == \"complete\") {\n",
       "        attempts++;\n",
       "        if (attempts > 100) {\n",
       "          clearInterval(timer);\n",
       "          console.log(\"Bokeh: ERROR: Unable to run BokehJS code because BokehJS library is missing\");\n",
       "        }\n",
       "      }\n",
       "    }, 10, root)\n",
       "  }\n",
       "})(window);</script>"
      ],
      "text/plain": [
       "Column\n",
       "    [0] Markdown(str, background='#969696', height=50, sizing_mode='fixed', width=400)\n",
       "    [1] Tabs(dynamic=True)\n",
       "        [0] Markdown(str)\n",
       "        [1] Column\n",
       "            [0] Markdown(str)\n",
       "            [1] Str(AxesImage)\n",
       "            [2] Str(AxesImage)\n",
       "        [2] Column\n",
       "            [0] Column()\n",
       "            [1] Row\n",
       "                [0] Str(AxesImage, name='interactive02157')\n",
       "        [3] Column\n",
       "            [0] Column()\n",
       "            [1] Row\n",
       "                [0] Str(AxesImage, name='interactive02163')\n",
       "        [4] Column\n",
       "            [0] Column()\n",
       "            [1] Row\n",
       "                [0] Str(AxesImage, name='interactive02169')\n",
       "        [5] Column\n",
       "            [0] Column()\n",
       "            [1] Row\n",
       "                [0] Str(AxesImage, name='interactive02175')\n",
       "        [6] Markdown(str)"
      ]
     },
     "execution_count": 177,
     "metadata": {
      "application/vnd.holoviews_exec.v0+json": {
       "id": "1331"
      }
     },
     "output_type": "execute_result"
    }
   ],
   "source": [
    "test_dashboard_final.servable()"
   ]
  }
 ],
 "metadata": {
  "kernelspec": {
   "display_name": "Python [conda env:pyvizenv] *",
   "language": "python",
   "name": "conda-env-pyvizenv-py"
  },
  "language_info": {
   "codemirror_mode": {
    "name": "ipython",
    "version": 3
   },
   "file_extension": ".py",
   "mimetype": "text/x-python",
   "name": "python",
   "nbconvert_exporter": "python",
   "pygments_lexer": "ipython3",
   "version": "3.7.7"
  }
 },
 "nbformat": 4,
 "nbformat_minor": 4
}
