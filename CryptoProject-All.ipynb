{
 "cells": [
  {
   "cell_type": "code",
   "execution_count": 19,
   "metadata": {},
   "outputs": [
    {
     "name": "stderr",
     "output_type": "stream",
     "text": [
      "WARNING:param.panel_extension: Plotly extension not recognized and will be skipped.\n",
      "WARNING:param.panel_extension: A HoloViz extension was loaded previously. This means the extension is already initialized and the following Panel extensions could not be properly loaded: ['Plotly']. If you are loading custom extensions with pn.extension(...) ensure that this is called before any other HoloViz extension such as hvPlot or HoloViews.\n"
     ]
    }
   ],
   "source": [
    "# Initial imports\n",
    "import os\n",
    "import requests\n",
    "import pandas as pd\n",
    "import time\n",
    "import datetime\n",
    "from panel.interact import interact\n",
    "import plotly.express as px\n",
    "import panel as pn\n",
    "import hvplot.pandas\n",
    "import numpy as np\n",
    "from pathlib import Path\n",
    "from pycoingecko import CoinGeckoAPI\n",
    "%matplotlib inline\n",
    "\n",
    "pn.extension('Plotly')\n",
    "cg = CoinGeckoAPI()\n",
    "\n",
    "## Initialize some dictionary and lists\n",
    "portfolio_dict={}  # portfolio dictionary init\n",
    "portfolio_list=[]  # list of portfolio tickers init\n",
    "social_dict={} # dictionary for social data init\n",
    "\n",
    "#choose tickers\n",
    "portfolio_list = ['bitcoin', 'ethereum', 'chainlink', 'polkadot', 'tellor']\n",
    "\n",
    "\n",
    "def get_crypto_portfolio_data(data):\n",
    "### Uses get_price from the sdk and returns data for the users portfolio\n",
    "    data = cg.get_price(ids=data,vs_currencies='usd', include_market_cap='true', include_24hr_vol='true', include_24hr_change='true', include_last_updated_at='false')\n",
    "    return data\n",
    "\n",
    "\n",
    "def get_coin_by_id(data):\n",
    "### returns information about the coin including social data\n",
    "    data = cg.get_coin_by_id(id=data,localization='false',tickers='false',market_data='false')\n",
    "    return data\n",
    "\n",
    "\n",
    "def create_crypto_portfolio_df(ticker_list):\n",
    "##returns a portfolio dataframe of from a list of tickers\n",
    "    #iterate through the list that was passed \n",
    "    for ticker in ticker_list:\n",
    "        \n",
    "        #get the data from the api\n",
    "        api_data=get_crypto_portfolio_data(ticker)\n",
    "    \n",
    "        #the coin name is the first key in the api return data. We need it.\n",
    "        coin = list(api_data.keys())[0] \n",
    "\n",
    "        #add data to dictionary\n",
    "        portfolio_dict[coin] = api_data[coin]\n",
    "\n",
    "    #Turn the dict into a data frame.\n",
    "    df = pd.DataFrame.from_dict(portfolio_dict, orient='index')\n",
    "  \n",
    "\n",
    "    #wrangle the data into a portfolio\n",
    "    df.columns=['Price', 'Market Cap', '24h Volume', '24h Change']\n",
    "    df['Market Cap'] = df['Market Cap'].astype('int64')\n",
    "    #df['24h Volume '] = df['24h Volume '].astype('int32')\n",
    "    df['24h Change'] = df['24h Change'].astype('float64').round(decimals=2)\n",
    "\n",
    "    #return the dataframe\n",
    "    return df\n",
    "\n",
    "def create_equities_portfolio_df(file=\"./data/data_equities_portfolio.csv\"):\n",
    "    equities_df=pd.read_csv(file)\n",
    "    return equities_df\n",
    "    \n",
    "\n",
    "def get_social_df(tickers):\n",
    "# accepts a list of tickers and returns social inco in a dataframe\n",
    "    for ticker in tickers:\n",
    "        data=get_coin_by_id(ticker)\n",
    "        social_dict[data['id']] = data['community_data']\n",
    "\n",
    "    #Turn the dict into a data frame.\n",
    "    df = pd.DataFrame.from_dict(social_dict, orient='index')\n",
    "    df.columns=['FB Likes', 'TWTR Follows', 'reddit posts 48h', 'reddit comments 48h','reddit subscribes 48h','reddit active 48h','telegram users']\n",
    "        \n",
    "    #return the dataframe\n",
    "    return df\n",
    "\n",
    "def get_portfolio():\n",
    "    df1=create_equities_portfolio_df()\n",
    "    df2=create_crypto_portfolio_df(portfolio_list)   \n",
    "    df = pd.concat([df1,df2], axis=0, join='inner')\n",
    "    #df = df.dropna()\n",
    "    df['Market Cap'] = df['Market Cap'].astype('float64')\n",
    "    df['24h Change'] = df['24h Change'].astype('float64').round(decimals=2)\n",
    "    return df\n",
    "    \n",
    "\n",
    "def get_crypt_history(ticker_list, start_date = None, end_date = None):\n",
    "    \n",
    "    unix_start_date = int(time.mktime(start_date.timetuple()))\n",
    "    unix_end_date = int(time.mktime(end_date.timetuple()))\n",
    "    \n",
    "    history_dfs = []\n",
    "\n",
    "    for ticker in ticker_list:\n",
    "        \n",
    "        #Get the 5 year history \n",
    "        history = cg.get_coin_market_chart_range_by_id(id = ticker, vs_currency ='usd', from_timestamp=unix_start_date, to_timestamp=unix_end_date)  \n",
    "        \n",
    "        #wrangle the data\n",
    "        prices = history['prices']\n",
    "        market_caps = history['market_caps']\n",
    "        total_volumes = history['total_volumes']\n",
    "        \n",
    "        #create the dataframes\n",
    "        prices_df = pd.DataFrame(prices).set_index(0)\n",
    "        market_caps_df = pd.DataFrame(market_caps).set_index(0)\n",
    "        total_volumes_df = pd.DataFrame(total_volumes).set_index(0)\n",
    "        \n",
    "        #concat the dataframes\n",
    "        joined = pd.concat([prices_df,market_caps_df,total_volumes_df], axis = 1, join = 'inner').reset_index()\n",
    "        joined.columns = ['Date', 'Price', 'Market Caps', 'Total Volumes']\n",
    "        joined['Date'] = pd.to_datetime(joined['Date'], unit = 'ms')\n",
    "        joined.insert(loc=0, column='Ticker', value=ticker)\n",
    "        history_dfs.append(joined)\n",
    "    history_df=pd.concat(history_dfs)\n",
    "\n",
    "\n",
    "    #return the 5 yr hostry dataframe\n",
    "    return history_df\n",
    "\n",
    "def get_equities_df():\n",
    "    data_df=pd.read_csv('diverse.csv',infer_datetime_format=True, parse_dates = True, index_col = \"Date\")\n",
    "    data_df.drop(['Date.1','Date.2'],axis=1, inplace=True)\n",
    "    data_df.rename(columns={'Close':'S&P','Close.1':'Gold','Close.2':'20Yr'},inplace=True)\n",
    "    return data_df\n",
    "\n",
    "diverse_df = get_equities_df()\n"
   ]
  },
  {
   "cell_type": "markdown",
   "metadata": {},
   "source": [
    "## Making the Crypto History DataFrame"
   ]
  },
  {
   "cell_type": "code",
   "execution_count": 20,
   "metadata": {},
   "outputs": [],
   "source": [
    "#construct history dataframe\n",
    "start_date = datetime.date(2015, 1, 1)\n",
    "end_date = datetime.date(2020, 11, 5)\n",
    "\n",
    "history=get_crypt_history(portfolio_list, start_date = start_date, end_date = end_date)\n",
    "history.to_csv('data_5year.csv',mode='w')\n",
    "\n",
    "#Make dataframe into pivot to only take price and tickers for daily returns calculations\n",
    "def df_pivot(df):\n",
    "    dt_df = df[['Date','Ticker','Price']]    \n",
    "    price_df = df.pivot(index=\"Date\", columns= \"Ticker\", values=\"Price\")\n",
    "    price_df.columns = portfolio_list\n",
    "    return price_df\n"
   ]
  },
  {
   "cell_type": "markdown",
   "metadata": {},
   "source": [
    "## Analysis Calculations"
   ]
  },
  {
   "cell_type": "code",
   "execution_count": 21,
   "metadata": {},
   "outputs": [],
   "source": [
    "def daily_returns_dataframe(history):\n",
    "    \n",
    "    daily_returns = history.sort_index(ascending=True).pct_change()\n",
    "    \n",
    "    daily_returns.columns.name = \"Daily Returns\"\n",
    "    \n",
    "    return daily_returns\n",
    "\n",
    "def cumulative_returns_dataframe(price_df):\n",
    "    \n",
    "    # Get daily returns\n",
    "    daily_returns = daily_returns_dataframe(price_df)\n",
    "    \n",
    "    # Calculate cumulative returns\n",
    "    cumulative_returns = (1 + daily_returns).cumprod()\n",
    "    \n",
    "    # Rename column to \"Cumulative Returns\"\n",
    "    cumulative_returns.columns.name = \"Cumulative Returns\"\n",
    "    \n",
    "    return cumulative_returns\n",
    "\n",
    "\n",
    "def correlation_dataframe(daily_returns_df):\n",
    "    \n",
    "    correlation = daily_returns_df.corr()\n",
    "    \n",
    "    correlation.columns.name = \"Correlation\"\n",
    "    \n",
    "    correlation.index.name = \"Tickers\"\n",
    "    \n",
    "    return correlation\n",
    "\n",
    "def rolling_beta_dataframe(daily_returns_df, period, covariance_compare = \"S&P\"):\n",
    "    \n",
    "    existing_tickers = list(daily_returns_df.columns)\n",
    "    \n",
    "    # Check to see if our covariance comparison column exists in dataframe\n",
    "    try:\n",
    "        if not covariance_compare in existing_tickers:\n",
    "            raise ValueError(f\"Ticker \\\"{covariance_compare}\\\" does not exist in dataframe\")\n",
    "            \n",
    "        # Ensure dates are sorted in ascending order\n",
    "        daily_returns_df = daily_returns_df.sort_index(ascending=True)\n",
    "            \n",
    "        # Calculate rolling covariance, including covariance with our covariance comparison column\n",
    "        rolling_covariance = daily_returns_df.rolling(window=period).cov(daily_returns_df[covariance_compare])\n",
    "        \n",
    "        # Calculate variance with our covariance comparison column\n",
    "        rolling_variance = daily_returns_df[covariance_compare].rolling(window=period).var()\n",
    "        \n",
    "        # Drop our covariance comparison column from rolling covariance: beta = cov / var, so that column would show up as all 1\n",
    "        rolling_covariance = rolling_covariance.drop([covariance_compare], axis=1)\n",
    "        \n",
    "        # calculate rolling beta and drop na\n",
    "        rolling_beta = rolling_covariance.divide(rolling_variance, axis=0)\n",
    "        rolling_beta.dropna(inplace=True)\n",
    "        rolling_beta.columns.name = f\"{period} Day Rolling Beta\"\n",
    "        \n",
    "    except ValueError as err:\n",
    "        print('Value error: ', err)\n",
    "        \n",
    "    return rolling_beta\n",
    "\n",
    "def annualized_sharpe_ratios_dataframe(daily_returns_df, trading_days=252):\n",
    "    \n",
    "    sharpe_ratios_df = (daily_returns_df.mean() / daily_returns_df.std()) * np.sqrt(trading_days)\n",
    "    \n",
    "    return sharpe_ratios_df\n"
   ]
  },
  {
   "cell_type": "markdown",
   "metadata": {},
   "source": [
    "## Plot Functions"
   ]
  },
  {
   "cell_type": "code",
   "execution_count": 22,
   "metadata": {},
   "outputs": [],
   "source": [
    "def cumulative_returns_plot(cumulative_returns_df, title = str):\n",
    "    \n",
    "    plt = px.line(cumulative_returns_df, labels=dict(x=\"Date\", y=\"Cumulative Returns\", color=\"Cumulative Returns\"), title = title) \n",
    "        \n",
    "    plt.update_xaxes(title_text='Date')\n",
    "    plt.update_yaxes(title_text='Cumulative Returns')\n",
    "    \n",
    "    return plt\n",
    "\n",
    "\n",
    "def cumulative_returns_plot(cumulative_returns_df, title = str):\n",
    "    \n",
    "    plt = px.line(cumulative_returns_df, labels=dict(x=\"Date\", y=\"Cumulative Returns\", color=\"Cumulative Returns\"), title = title) \n",
    "        \n",
    "    plt.update_xaxes(title_text='Date')\n",
    "    plt.update_yaxes(title_text='Cumulative Returns')\n",
    "    \n",
    "    return plt\n",
    "\n",
    "\n",
    "def correlation_plot(correlation_df, title = str):\n",
    "    \n",
    "    plt = correlation_df.hvplot.heatmap(title = title)\n",
    "    plt = pn.Pane(plt)\n",
    "    \n",
    "    return plt\n",
    "\n",
    "def rolling_beta_plot(rolling_beta_df, period, title = str):\n",
    "    \n",
    "    plt = px.line(rolling_beta_df, labels=dict(x=f\"Date\", y=f\"{period} Day Rolling Beta\", color=f\"{period} Day Rolling Beta\"), title = title) \n",
    "        \n",
    "    plt.update_xaxes(title_text=\"Date\")\n",
    "    plt.update_yaxes(title_text=f\"{period} Day Rolling Beta\")\n",
    "    \n",
    "    return plt\n",
    "\n",
    "def price_summary_violin(price_df, title = str):\n",
    "    \n",
    "    plt = px.violin(price_df, title = title)\n",
    "    \n",
    "    plt.update_xaxes(title_text=\"Ticker\")\n",
    "    plt.update_yaxes(title_text=f\"Price Summary\")\n",
    "    \n",
    "    return plt\n",
    "\n",
    "def sharpe_ratios_plot(sharpe_ratios_df, title = str):\n",
    "\n",
    "    plt = px.bar(sharpe_ratios_df, title = title)\n",
    "    plt.update_xaxes(title_text=\"Ticker\")\n",
    "    plt.update_yaxes(title_text=f\"Sharpe Ratios\")\n",
    "    \n",
    "    plt.update_yaxes(range=[-1,1])\n",
    "    \n",
    "    return plt\n",
    "\n",
    "#plot price_df \n",
    "def price_market_cap_plot(df):\n",
    "    plot1 = px.scatter(df, x= 'index' , y = 'Market Cap' ,color = 'Price',  color_continuous_scale = 'rainbow', title = 'Market Analysis of Your Porfolio')\n",
    "    return plot1\n",
    "\n",
    "def volume_change_plot(df):\n",
    "    plot2 = px.scatter(df, x = 'index', y = '24h Volume', color = '24h Change', color_continuous_scale = 'rainbow', title = 'Volume & Change Analysis of Your Portfolio')\n",
    "    return plot2\n",
    "def parallel_cat_plot(df):\n",
    "    plot3 = px.parallel_categories(df, dimensions=[\"index\",\"24h Volume\", \"Market Cap\", \"Price\"], color = \"24h Change\", color_continuous_scale= 'inferno', title = 'Market Analysis of Your Portfolio')\n",
    "    return plot3\n",
    "def sum_return_plot(df, title = str):\n",
    "    df = df.sum().rename(columns = {0:'Ticker'})\n",
    "    plot4 = df.hvplot(kind = 'bar', title = title)\n",
    "    plot4 = pn.Pane(plot4)\n",
    "    return plot4"
   ]
  },
  {
   "cell_type": "markdown",
   "metadata": {},
   "source": [
    "## Joining DataFrames"
   ]
  },
  {
   "cell_type": "code",
   "execution_count": 23,
   "metadata": {},
   "outputs": [],
   "source": [
    "#crypto convert dataframe to pivot in order to calculate returns\n",
    "crypto_pivot_price_df = df_pivot(history)\n",
    "#crypto cumulative returns calculation\n",
    "crypto_cumulative_returns_df = cumulative_returns_dataframe(crypto_pivot_price_df)\n",
    "#s&p 500 convert dataframe to pivot in order to calculate returns\n",
    "sp500_pivot_price_df = diverse_df\n",
    "#s&p 500 cumulative returns calculation\n",
    "sp500_cumulative_returns_df = cumulative_returns_dataframe(sp500_pivot_price_df)\n",
    "# Join crypto prices with S&P 500 closes\n",
    "joined_price_df = pd.concat([crypto_pivot_price_df, sp500_pivot_price_df], axis=1, join = 'inner')\n",
    "#join s&p500 and cumulative returns dataframes\n",
    "joined_cumulative_returns_df = pd.concat([crypto_cumulative_returns_df, sp500_cumulative_returns_df], axis=1, join = 'inner')\n",
    "# joined daily returns dataframe \n",
    "joined_daily_returns_df = daily_returns_dataframe(joined_price_df)\n",
    "#joined corrlations\n",
    "joined_correlation_df = correlation_dataframe(joined_daily_returns_df)\n",
    "# Get rolling beta\n",
    "joined_beta_df = rolling_beta_dataframe(joined_daily_returns_df, period = 21)\n",
    "# Get annualized sharpe ratios\n",
    "crypto_sharpe_ratios = annualized_sharpe_ratios_dataframe(daily_returns_dataframe(crypto_pivot_price_df), trading_days=365)\n",
    "equity_sharpe_ratios = annualized_sharpe_ratios_dataframe(daily_returns_dataframe(sp500_pivot_price_df), trading_days=252)\n",
    "\n",
    "joined_sharpe_ratios = pd.concat([crypto_sharpe_ratios, equity_sharpe_ratios], axis=0, join = 'inner')"
   ]
  },
  {
   "cell_type": "markdown",
   "metadata": {},
   "source": [
    "## Social Metrics Data & Summary Analysis Data"
   ]
  },
  {
   "cell_type": "code",
   "execution_count": 24,
   "metadata": {},
   "outputs": [],
   "source": [
    "#construct social metrics df \n",
    "social_df = get_social_df(portfolio_list)\n",
    "#store to csv\n",
    "social_df.to_csv('./data/data_social.csv')\n",
    "#social metrics plot\n",
    "def social_plot(df, title = str):\n",
    "    social_df_plt = social_df.hvplot(kind = 'bar', stacked = True, title = title)\n",
    "    return social_df_plt\n",
    "#create the portfolio from the list\n",
    "portfolio_df=get_portfolio()\n",
    "#store to csv\n",
    "portfolio_df.to_csv('./data/data_portfolio.csv')\n",
    "portfolio_df = portfolio_df.reset_index()"
   ]
  },
  {
   "cell_type": "markdown",
   "metadata": {},
   "source": [
    "## Returning Plots"
   ]
  },
  {
   "cell_type": "code",
   "execution_count": 25,
   "metadata": {},
   "outputs": [],
   "source": [
    "#cumulative returns calculations plot\n",
    "cumulative_returns_crypto_plot = cumulative_returns_plot(crypto_cumulative_returns_df, title = \"Cumulative Returns of Crypto for 5 years\")\n",
    "cumulative_returns_crypto_plot\n",
    "#cumulative returns s&p plot\n",
    "cumulative_returns_sp_plot = cumulative_returns_plot(sp500_cumulative_returns_df, title = \"S&P500 Cumulative Returns for 5 years\")\n",
    "cumulative_returns_sp_plot\n",
    "#cumulative returns s&p and crypto plot\n",
    "cumulative_returns_all_plot = cumulative_returns_plot(joined_cumulative_returns_df, title = \"Crypto vs S&P500 Cumulative Returns\")"
   ]
  },
  {
   "cell_type": "code",
   "execution_count": 26,
   "metadata": {},
   "outputs": [
    {
     "data": {
      "application/vnd.plotly.v1+json": {
       "config": {
        "plotlyServerURL": "https://plot.ly"
       },
       "data": [
        {
         "alignmentgroup": "True",
         "hovertemplate": "variable=0<br>Daily Returns=%{x}<br>value=%{y}<extra></extra>",
         "legendgroup": "0",
         "marker": {
          "color": "#636efa"
         },
         "name": "0",
         "offsetgroup": "0",
         "orientation": "v",
         "showlegend": true,
         "textposition": "auto",
         "type": "bar",
         "x": [
          "bitcoin",
          "ethereum",
          "chainlink",
          "polkadot",
          "tellor",
          "S&P",
          "Gold",
          "20Yr"
         ],
         "xaxis": "x",
         "y": [
          1.2499329312820577,
          1.5718442595878348,
          1.3893250440363099,
          1.6348063413167668,
          2.140565971690072,
          0.6258910670706368,
          0.8233077556751126,
          0.45521090048465546
         ],
         "yaxis": "y"
        }
       ],
       "layout": {
        "autosize": true,
        "barmode": "relative",
        "legend": {
         "title": {
          "text": "variable"
         },
         "tracegroupgap": 0
        },
        "template": {
         "data": {
          "bar": [
           {
            "error_x": {
             "color": "#2a3f5f"
            },
            "error_y": {
             "color": "#2a3f5f"
            },
            "marker": {
             "line": {
              "color": "#E5ECF6",
              "width": 0.5
             }
            },
            "type": "bar"
           }
          ],
          "barpolar": [
           {
            "marker": {
             "line": {
              "color": "#E5ECF6",
              "width": 0.5
             }
            },
            "type": "barpolar"
           }
          ],
          "carpet": [
           {
            "aaxis": {
             "endlinecolor": "#2a3f5f",
             "gridcolor": "white",
             "linecolor": "white",
             "minorgridcolor": "white",
             "startlinecolor": "#2a3f5f"
            },
            "baxis": {
             "endlinecolor": "#2a3f5f",
             "gridcolor": "white",
             "linecolor": "white",
             "minorgridcolor": "white",
             "startlinecolor": "#2a3f5f"
            },
            "type": "carpet"
           }
          ],
          "choropleth": [
           {
            "colorbar": {
             "outlinewidth": 0,
             "ticks": ""
            },
            "type": "choropleth"
           }
          ],
          "contour": [
           {
            "colorbar": {
             "outlinewidth": 0,
             "ticks": ""
            },
            "colorscale": [
             [
              0,
              "#0d0887"
             ],
             [
              0.1111111111111111,
              "#46039f"
             ],
             [
              0.2222222222222222,
              "#7201a8"
             ],
             [
              0.3333333333333333,
              "#9c179e"
             ],
             [
              0.4444444444444444,
              "#bd3786"
             ],
             [
              0.5555555555555556,
              "#d8576b"
             ],
             [
              0.6666666666666666,
              "#ed7953"
             ],
             [
              0.7777777777777778,
              "#fb9f3a"
             ],
             [
              0.8888888888888888,
              "#fdca26"
             ],
             [
              1,
              "#f0f921"
             ]
            ],
            "type": "contour"
           }
          ],
          "contourcarpet": [
           {
            "colorbar": {
             "outlinewidth": 0,
             "ticks": ""
            },
            "type": "contourcarpet"
           }
          ],
          "heatmap": [
           {
            "colorbar": {
             "outlinewidth": 0,
             "ticks": ""
            },
            "colorscale": [
             [
              0,
              "#0d0887"
             ],
             [
              0.1111111111111111,
              "#46039f"
             ],
             [
              0.2222222222222222,
              "#7201a8"
             ],
             [
              0.3333333333333333,
              "#9c179e"
             ],
             [
              0.4444444444444444,
              "#bd3786"
             ],
             [
              0.5555555555555556,
              "#d8576b"
             ],
             [
              0.6666666666666666,
              "#ed7953"
             ],
             [
              0.7777777777777778,
              "#fb9f3a"
             ],
             [
              0.8888888888888888,
              "#fdca26"
             ],
             [
              1,
              "#f0f921"
             ]
            ],
            "type": "heatmap"
           }
          ],
          "heatmapgl": [
           {
            "colorbar": {
             "outlinewidth": 0,
             "ticks": ""
            },
            "colorscale": [
             [
              0,
              "#0d0887"
             ],
             [
              0.1111111111111111,
              "#46039f"
             ],
             [
              0.2222222222222222,
              "#7201a8"
             ],
             [
              0.3333333333333333,
              "#9c179e"
             ],
             [
              0.4444444444444444,
              "#bd3786"
             ],
             [
              0.5555555555555556,
              "#d8576b"
             ],
             [
              0.6666666666666666,
              "#ed7953"
             ],
             [
              0.7777777777777778,
              "#fb9f3a"
             ],
             [
              0.8888888888888888,
              "#fdca26"
             ],
             [
              1,
              "#f0f921"
             ]
            ],
            "type": "heatmapgl"
           }
          ],
          "histogram": [
           {
            "marker": {
             "colorbar": {
              "outlinewidth": 0,
              "ticks": ""
             }
            },
            "type": "histogram"
           }
          ],
          "histogram2d": [
           {
            "colorbar": {
             "outlinewidth": 0,
             "ticks": ""
            },
            "colorscale": [
             [
              0,
              "#0d0887"
             ],
             [
              0.1111111111111111,
              "#46039f"
             ],
             [
              0.2222222222222222,
              "#7201a8"
             ],
             [
              0.3333333333333333,
              "#9c179e"
             ],
             [
              0.4444444444444444,
              "#bd3786"
             ],
             [
              0.5555555555555556,
              "#d8576b"
             ],
             [
              0.6666666666666666,
              "#ed7953"
             ],
             [
              0.7777777777777778,
              "#fb9f3a"
             ],
             [
              0.8888888888888888,
              "#fdca26"
             ],
             [
              1,
              "#f0f921"
             ]
            ],
            "type": "histogram2d"
           }
          ],
          "histogram2dcontour": [
           {
            "colorbar": {
             "outlinewidth": 0,
             "ticks": ""
            },
            "colorscale": [
             [
              0,
              "#0d0887"
             ],
             [
              0.1111111111111111,
              "#46039f"
             ],
             [
              0.2222222222222222,
              "#7201a8"
             ],
             [
              0.3333333333333333,
              "#9c179e"
             ],
             [
              0.4444444444444444,
              "#bd3786"
             ],
             [
              0.5555555555555556,
              "#d8576b"
             ],
             [
              0.6666666666666666,
              "#ed7953"
             ],
             [
              0.7777777777777778,
              "#fb9f3a"
             ],
             [
              0.8888888888888888,
              "#fdca26"
             ],
             [
              1,
              "#f0f921"
             ]
            ],
            "type": "histogram2dcontour"
           }
          ],
          "mesh3d": [
           {
            "colorbar": {
             "outlinewidth": 0,
             "ticks": ""
            },
            "type": "mesh3d"
           }
          ],
          "parcoords": [
           {
            "line": {
             "colorbar": {
              "outlinewidth": 0,
              "ticks": ""
             }
            },
            "type": "parcoords"
           }
          ],
          "pie": [
           {
            "automargin": true,
            "type": "pie"
           }
          ],
          "scatter": [
           {
            "marker": {
             "colorbar": {
              "outlinewidth": 0,
              "ticks": ""
             }
            },
            "type": "scatter"
           }
          ],
          "scatter3d": [
           {
            "line": {
             "colorbar": {
              "outlinewidth": 0,
              "ticks": ""
             }
            },
            "marker": {
             "colorbar": {
              "outlinewidth": 0,
              "ticks": ""
             }
            },
            "type": "scatter3d"
           }
          ],
          "scattercarpet": [
           {
            "marker": {
             "colorbar": {
              "outlinewidth": 0,
              "ticks": ""
             }
            },
            "type": "scattercarpet"
           }
          ],
          "scattergeo": [
           {
            "marker": {
             "colorbar": {
              "outlinewidth": 0,
              "ticks": ""
             }
            },
            "type": "scattergeo"
           }
          ],
          "scattergl": [
           {
            "marker": {
             "colorbar": {
              "outlinewidth": 0,
              "ticks": ""
             }
            },
            "type": "scattergl"
           }
          ],
          "scattermapbox": [
           {
            "marker": {
             "colorbar": {
              "outlinewidth": 0,
              "ticks": ""
             }
            },
            "type": "scattermapbox"
           }
          ],
          "scatterpolar": [
           {
            "marker": {
             "colorbar": {
              "outlinewidth": 0,
              "ticks": ""
             }
            },
            "type": "scatterpolar"
           }
          ],
          "scatterpolargl": [
           {
            "marker": {
             "colorbar": {
              "outlinewidth": 0,
              "ticks": ""
             }
            },
            "type": "scatterpolargl"
           }
          ],
          "scatterternary": [
           {
            "marker": {
             "colorbar": {
              "outlinewidth": 0,
              "ticks": ""
             }
            },
            "type": "scatterternary"
           }
          ],
          "surface": [
           {
            "colorbar": {
             "outlinewidth": 0,
             "ticks": ""
            },
            "colorscale": [
             [
              0,
              "#0d0887"
             ],
             [
              0.1111111111111111,
              "#46039f"
             ],
             [
              0.2222222222222222,
              "#7201a8"
             ],
             [
              0.3333333333333333,
              "#9c179e"
             ],
             [
              0.4444444444444444,
              "#bd3786"
             ],
             [
              0.5555555555555556,
              "#d8576b"
             ],
             [
              0.6666666666666666,
              "#ed7953"
             ],
             [
              0.7777777777777778,
              "#fb9f3a"
             ],
             [
              0.8888888888888888,
              "#fdca26"
             ],
             [
              1,
              "#f0f921"
             ]
            ],
            "type": "surface"
           }
          ],
          "table": [
           {
            "cells": {
             "fill": {
              "color": "#EBF0F8"
             },
             "line": {
              "color": "white"
             }
            },
            "header": {
             "fill": {
              "color": "#C8D4E3"
             },
             "line": {
              "color": "white"
             }
            },
            "type": "table"
           }
          ]
         },
         "layout": {
          "annotationdefaults": {
           "arrowcolor": "#2a3f5f",
           "arrowhead": 0,
           "arrowwidth": 1
          },
          "coloraxis": {
           "colorbar": {
            "outlinewidth": 0,
            "ticks": ""
           }
          },
          "colorscale": {
           "diverging": [
            [
             0,
             "#8e0152"
            ],
            [
             0.1,
             "#c51b7d"
            ],
            [
             0.2,
             "#de77ae"
            ],
            [
             0.3,
             "#f1b6da"
            ],
            [
             0.4,
             "#fde0ef"
            ],
            [
             0.5,
             "#f7f7f7"
            ],
            [
             0.6,
             "#e6f5d0"
            ],
            [
             0.7,
             "#b8e186"
            ],
            [
             0.8,
             "#7fbc41"
            ],
            [
             0.9,
             "#4d9221"
            ],
            [
             1,
             "#276419"
            ]
           ],
           "sequential": [
            [
             0,
             "#0d0887"
            ],
            [
             0.1111111111111111,
             "#46039f"
            ],
            [
             0.2222222222222222,
             "#7201a8"
            ],
            [
             0.3333333333333333,
             "#9c179e"
            ],
            [
             0.4444444444444444,
             "#bd3786"
            ],
            [
             0.5555555555555556,
             "#d8576b"
            ],
            [
             0.6666666666666666,
             "#ed7953"
            ],
            [
             0.7777777777777778,
             "#fb9f3a"
            ],
            [
             0.8888888888888888,
             "#fdca26"
            ],
            [
             1,
             "#f0f921"
            ]
           ],
           "sequentialminus": [
            [
             0,
             "#0d0887"
            ],
            [
             0.1111111111111111,
             "#46039f"
            ],
            [
             0.2222222222222222,
             "#7201a8"
            ],
            [
             0.3333333333333333,
             "#9c179e"
            ],
            [
             0.4444444444444444,
             "#bd3786"
            ],
            [
             0.5555555555555556,
             "#d8576b"
            ],
            [
             0.6666666666666666,
             "#ed7953"
            ],
            [
             0.7777777777777778,
             "#fb9f3a"
            ],
            [
             0.8888888888888888,
             "#fdca26"
            ],
            [
             1,
             "#f0f921"
            ]
           ]
          },
          "colorway": [
           "#636efa",
           "#EF553B",
           "#00cc96",
           "#ab63fa",
           "#FFA15A",
           "#19d3f3",
           "#FF6692",
           "#B6E880",
           "#FF97FF",
           "#FECB52"
          ],
          "font": {
           "color": "#2a3f5f"
          },
          "geo": {
           "bgcolor": "white",
           "lakecolor": "white",
           "landcolor": "#E5ECF6",
           "showlakes": true,
           "showland": true,
           "subunitcolor": "white"
          },
          "hoverlabel": {
           "align": "left"
          },
          "hovermode": "closest",
          "mapbox": {
           "style": "light"
          },
          "paper_bgcolor": "white",
          "plot_bgcolor": "#E5ECF6",
          "polar": {
           "angularaxis": {
            "gridcolor": "white",
            "linecolor": "white",
            "ticks": ""
           },
           "bgcolor": "#E5ECF6",
           "radialaxis": {
            "gridcolor": "white",
            "linecolor": "white",
            "ticks": ""
           }
          },
          "scene": {
           "xaxis": {
            "backgroundcolor": "#E5ECF6",
            "gridcolor": "white",
            "gridwidth": 2,
            "linecolor": "white",
            "showbackground": true,
            "ticks": "",
            "zerolinecolor": "white"
           },
           "yaxis": {
            "backgroundcolor": "#E5ECF6",
            "gridcolor": "white",
            "gridwidth": 2,
            "linecolor": "white",
            "showbackground": true,
            "ticks": "",
            "zerolinecolor": "white"
           },
           "zaxis": {
            "backgroundcolor": "#E5ECF6",
            "gridcolor": "white",
            "gridwidth": 2,
            "linecolor": "white",
            "showbackground": true,
            "ticks": "",
            "zerolinecolor": "white"
           }
          },
          "shapedefaults": {
           "line": {
            "color": "#2a3f5f"
           }
          },
          "ternary": {
           "aaxis": {
            "gridcolor": "white",
            "linecolor": "white",
            "ticks": ""
           },
           "baxis": {
            "gridcolor": "white",
            "linecolor": "white",
            "ticks": ""
           },
           "bgcolor": "#E5ECF6",
           "caxis": {
            "gridcolor": "white",
            "linecolor": "white",
            "ticks": ""
           }
          },
          "title": {
           "x": 0.05
          },
          "xaxis": {
           "automargin": true,
           "gridcolor": "white",
           "linecolor": "white",
           "ticks": "",
           "title": {
            "standoff": 15
           },
           "zerolinecolor": "white",
           "zerolinewidth": 2
          },
          "yaxis": {
           "automargin": true,
           "gridcolor": "white",
           "linecolor": "white",
           "ticks": "",
           "title": {
            "standoff": 15
           },
           "zerolinecolor": "white",
           "zerolinewidth": 2
          }
         }
        },
        "title": {
         "text": "Sharpe Ratio Analysis of S&P500 and Crypto"
        },
        "xaxis": {
         "anchor": "y",
         "autorange": true,
         "domain": [
          0,
          1
         ],
         "range": [
          -0.5,
          7.5
         ],
         "title": {
          "text": "Ticker"
         },
         "type": "category"
        },
        "yaxis": {
         "anchor": "x",
         "domain": [
          0,
          1
         ],
         "range": [
          -1,
          1
         ],
         "title": {
          "text": "Sharpe Ratios"
         },
         "type": "linear"
        }
       }
      },
      "image/png": "[encoded data removed]",
      "text/html": [
       "<div>                            <div id=\"65f76b54-970b-4109-97e7-fbb4a7feef19\" class=\"plotly-graph-div\" style=\"height:525px; width:100%;\"></div>            <script type=\"text/javascript\">                require([\"plotly\"], function(Plotly) {                    window.PLOTLYENV=window.PLOTLYENV || {};                                    if (document.getElementById(\"65f76b54-970b-4109-97e7-fbb4a7feef19\")) {                    Plotly.newPlot(                        \"65f76b54-970b-4109-97e7-fbb4a7feef19\",                        [{\"alignmentgroup\": \"True\", \"hovertemplate\": \"variable=0<br>Daily Returns=%{x}<br>value=%{y}<extra></extra>\", \"legendgroup\": \"0\", \"marker\": {\"color\": \"#636efa\"}, \"name\": \"0\", \"offsetgroup\": \"0\", \"orientation\": \"v\", \"showlegend\": true, \"textposition\": \"auto\", \"type\": \"bar\", \"x\": [\"bitcoin\", \"ethereum\", \"chainlink\", \"polkadot\", \"tellor\", \"S&P\", \"Gold\", \"20Yr\"], \"xaxis\": \"x\", \"y\": [1.2499329312820577, 1.5718442595878348, 1.3893250440363099, 1.6348063413167668, 2.140565971690072, 0.6258910670706368, 0.8233077556751126, 0.45521090048465546], \"yaxis\": \"y\"}],                        {\"barmode\": \"relative\", \"legend\": {\"title\": {\"text\": \"variable\"}, \"tracegroupgap\": 0}, \"template\": {\"data\": {\"bar\": [{\"error_x\": {\"color\": \"#2a3f5f\"}, \"error_y\": {\"color\": \"#2a3f5f\"}, \"marker\": {\"line\": {\"color\": \"#E5ECF6\", \"width\": 0.5}}, \"type\": \"bar\"}], \"barpolar\": [{\"marker\": {\"line\": {\"color\": \"#E5ECF6\", \"width\": 0.5}}, \"type\": \"barpolar\"}], \"carpet\": [{\"aaxis\": {\"endlinecolor\": \"#2a3f5f\", \"gridcolor\": \"white\", \"linecolor\": \"white\", \"minorgridcolor\": \"white\", \"startlinecolor\": \"#2a3f5f\"}, \"baxis\": {\"endlinecolor\": \"#2a3f5f\", \"gridcolor\": \"white\", \"linecolor\": \"white\", \"minorgridcolor\": \"white\", \"startlinecolor\": \"#2a3f5f\"}, \"type\": \"carpet\"}], \"choropleth\": [{\"colorbar\": {\"outlinewidth\": 0, \"ticks\": \"\"}, \"type\": \"choropleth\"}], \"contour\": [{\"colorbar\": {\"outlinewidth\": 0, \"ticks\": \"\"}, \"colorscale\": [[0.0, \"#0d0887\"], [0.1111111111111111, \"#46039f\"], [0.2222222222222222, \"#7201a8\"], [0.3333333333333333, \"#9c179e\"], [0.4444444444444444, \"#bd3786\"], [0.5555555555555556, \"#d8576b\"], [0.6666666666666666, \"#ed7953\"], [0.7777777777777778, \"#fb9f3a\"], [0.8888888888888888, \"#fdca26\"], [1.0, \"#f0f921\"]], \"type\": \"contour\"}], \"contourcarpet\": [{\"colorbar\": {\"outlinewidth\": 0, \"ticks\": \"\"}, \"type\": \"contourcarpet\"}], \"heatmap\": [{\"colorbar\": {\"outlinewidth\": 0, \"ticks\": \"\"}, \"colorscale\": [[0.0, \"#0d0887\"], [0.1111111111111111, \"#46039f\"], [0.2222222222222222, \"#7201a8\"], [0.3333333333333333, \"#9c179e\"], [0.4444444444444444, \"#bd3786\"], [0.5555555555555556, \"#d8576b\"], [0.6666666666666666, \"#ed7953\"], [0.7777777777777778, \"#fb9f3a\"], [0.8888888888888888, \"#fdca26\"], [1.0, \"#f0f921\"]], \"type\": \"heatmap\"}], \"heatmapgl\": [{\"colorbar\": {\"outlinewidth\": 0, \"ticks\": \"\"}, \"colorscale\": [[0.0, \"#0d0887\"], [0.1111111111111111, \"#46039f\"], [0.2222222222222222, \"#7201a8\"], [0.3333333333333333, \"#9c179e\"], [0.4444444444444444, \"#bd3786\"], [0.5555555555555556, \"#d8576b\"], [0.6666666666666666, \"#ed7953\"], [0.7777777777777778, \"#fb9f3a\"], [0.8888888888888888, \"#fdca26\"], [1.0, \"#f0f921\"]], \"type\": \"heatmapgl\"}], \"histogram\": [{\"marker\": {\"colorbar\": {\"outlinewidth\": 0, \"ticks\": \"\"}}, \"type\": \"histogram\"}], \"histogram2d\": [{\"colorbar\": {\"outlinewidth\": 0, \"ticks\": \"\"}, \"colorscale\": [[0.0, \"#0d0887\"], [0.1111111111111111, \"#46039f\"], [0.2222222222222222, \"#7201a8\"], [0.3333333333333333, \"#9c179e\"], [0.4444444444444444, \"#bd3786\"], [0.5555555555555556, \"#d8576b\"], [0.6666666666666666, \"#ed7953\"], [0.7777777777777778, \"#fb9f3a\"], [0.8888888888888888, \"#fdca26\"], [1.0, \"#f0f921\"]], \"type\": \"histogram2d\"}], \"histogram2dcontour\": [{\"colorbar\": {\"outlinewidth\": 0, \"ticks\": \"\"}, \"colorscale\": [[0.0, \"#0d0887\"], [0.1111111111111111, \"#46039f\"], [0.2222222222222222, \"#7201a8\"], [0.3333333333333333, \"#9c179e\"], [0.4444444444444444, \"#bd3786\"], [0.5555555555555556, \"#d8576b\"], [0.6666666666666666, \"#ed7953\"], [0.7777777777777778, \"#fb9f3a\"], [0.8888888888888888, \"#fdca26\"], [1.0, \"#f0f921\"]], \"type\": \"histogram2dcontour\"}], \"mesh3d\": [{\"colorbar\": {\"outlinewidth\": 0, \"ticks\": \"\"}, \"type\": \"mesh3d\"}], \"parcoords\": [{\"line\": {\"colorbar\": {\"outlinewidth\": 0, \"ticks\": \"\"}}, \"type\": \"parcoords\"}], \"pie\": [{\"automargin\": true, \"type\": \"pie\"}], \"scatter\": [{\"marker\": {\"colorbar\": {\"outlinewidth\": 0, \"ticks\": \"\"}}, \"type\": \"scatter\"}], \"scatter3d\": [{\"line\": {\"colorbar\": {\"outlinewidth\": 0, \"ticks\": \"\"}}, \"marker\": {\"colorbar\": {\"outlinewidth\": 0, \"ticks\": \"\"}}, \"type\": \"scatter3d\"}], \"scattercarpet\": [{\"marker\": {\"colorbar\": {\"outlinewidth\": 0, \"ticks\": \"\"}}, \"type\": \"scattercarpet\"}], \"scattergeo\": [{\"marker\": {\"colorbar\": {\"outlinewidth\": 0, \"ticks\": \"\"}}, \"type\": \"scattergeo\"}], \"scattergl\": [{\"marker\": {\"colorbar\": {\"outlinewidth\": 0, \"ticks\": \"\"}}, \"type\": \"scattergl\"}], \"scattermapbox\": [{\"marker\": {\"colorbar\": {\"outlinewidth\": 0, \"ticks\": \"\"}}, \"type\": \"scattermapbox\"}], \"scatterpolar\": [{\"marker\": {\"colorbar\": {\"outlinewidth\": 0, \"ticks\": \"\"}}, \"type\": \"scatterpolar\"}], \"scatterpolargl\": [{\"marker\": {\"colorbar\": {\"outlinewidth\": 0, \"ticks\": \"\"}}, \"type\": \"scatterpolargl\"}], \"scatterternary\": [{\"marker\": {\"colorbar\": {\"outlinewidth\": 0, \"ticks\": \"\"}}, \"type\": \"scatterternary\"}], \"surface\": [{\"colorbar\": {\"outlinewidth\": 0, \"ticks\": \"\"}, \"colorscale\": [[0.0, \"#0d0887\"], [0.1111111111111111, \"#46039f\"], [0.2222222222222222, \"#7201a8\"], [0.3333333333333333, \"#9c179e\"], [0.4444444444444444, \"#bd3786\"], [0.5555555555555556, \"#d8576b\"], [0.6666666666666666, \"#ed7953\"], [0.7777777777777778, \"#fb9f3a\"], [0.8888888888888888, \"#fdca26\"], [1.0, \"#f0f921\"]], \"type\": \"surface\"}], \"table\": [{\"cells\": {\"fill\": {\"color\": \"#EBF0F8\"}, \"line\": {\"color\": \"white\"}}, \"header\": {\"fill\": {\"color\": \"#C8D4E3\"}, \"line\": {\"color\": \"white\"}}, \"type\": \"table\"}]}, \"layout\": {\"annotationdefaults\": {\"arrowcolor\": \"#2a3f5f\", \"arrowhead\": 0, \"arrowwidth\": 1}, \"coloraxis\": {\"colorbar\": {\"outlinewidth\": 0, \"ticks\": \"\"}}, \"colorscale\": {\"diverging\": [[0, \"#8e0152\"], [0.1, \"#c51b7d\"], [0.2, \"#de77ae\"], [0.3, \"#f1b6da\"], [0.4, \"#fde0ef\"], [0.5, \"#f7f7f7\"], [0.6, \"#e6f5d0\"], [0.7, \"#b8e186\"], [0.8, \"#7fbc41\"], [0.9, \"#4d9221\"], [1, \"#276419\"]], \"sequential\": [[0.0, \"#0d0887\"], [0.1111111111111111, \"#46039f\"], [0.2222222222222222, \"#7201a8\"], [0.3333333333333333, \"#9c179e\"], [0.4444444444444444, \"#bd3786\"], [0.5555555555555556, \"#d8576b\"], [0.6666666666666666, \"#ed7953\"], [0.7777777777777778, \"#fb9f3a\"], [0.8888888888888888, \"#fdca26\"], [1.0, \"#f0f921\"]], \"sequentialminus\": [[0.0, \"#0d0887\"], [0.1111111111111111, \"#46039f\"], [0.2222222222222222, \"#7201a8\"], [0.3333333333333333, \"#9c179e\"], [0.4444444444444444, \"#bd3786\"], [0.5555555555555556, \"#d8576b\"], [0.6666666666666666, \"#ed7953\"], [0.7777777777777778, \"#fb9f3a\"], [0.8888888888888888, \"#fdca26\"], [1.0, \"#f0f921\"]]}, \"colorway\": [\"#636efa\", \"#EF553B\", \"#00cc96\", \"#ab63fa\", \"#FFA15A\", \"#19d3f3\", \"#FF6692\", \"#B6E880\", \"#FF97FF\", \"#FECB52\"], \"font\": {\"color\": \"#2a3f5f\"}, \"geo\": {\"bgcolor\": \"white\", \"lakecolor\": \"white\", \"landcolor\": \"#E5ECF6\", \"showlakes\": true, \"showland\": true, \"subunitcolor\": \"white\"}, \"hoverlabel\": {\"align\": \"left\"}, \"hovermode\": \"closest\", \"mapbox\": {\"style\": \"light\"}, \"paper_bgcolor\": \"white\", \"plot_bgcolor\": \"#E5ECF6\", \"polar\": {\"angularaxis\": {\"gridcolor\": \"white\", \"linecolor\": \"white\", \"ticks\": \"\"}, \"bgcolor\": \"#E5ECF6\", \"radialaxis\": {\"gridcolor\": \"white\", \"linecolor\": \"white\", \"ticks\": \"\"}}, \"scene\": {\"xaxis\": {\"backgroundcolor\": \"#E5ECF6\", \"gridcolor\": \"white\", \"gridwidth\": 2, \"linecolor\": \"white\", \"showbackground\": true, \"ticks\": \"\", \"zerolinecolor\": \"white\"}, \"yaxis\": {\"backgroundcolor\": \"#E5ECF6\", \"gridcolor\": \"white\", \"gridwidth\": 2, \"linecolor\": \"white\", \"showbackground\": true, \"ticks\": \"\", \"zerolinecolor\": \"white\"}, \"zaxis\": {\"backgroundcolor\": \"#E5ECF6\", \"gridcolor\": \"white\", \"gridwidth\": 2, \"linecolor\": \"white\", \"showbackground\": true, \"ticks\": \"\", \"zerolinecolor\": \"white\"}}, \"shapedefaults\": {\"line\": {\"color\": \"#2a3f5f\"}}, \"ternary\": {\"aaxis\": {\"gridcolor\": \"white\", \"linecolor\": \"white\", \"ticks\": \"\"}, \"baxis\": {\"gridcolor\": \"white\", \"linecolor\": \"white\", \"ticks\": \"\"}, \"bgcolor\": \"#E5ECF6\", \"caxis\": {\"gridcolor\": \"white\", \"linecolor\": \"white\", \"ticks\": \"\"}}, \"title\": {\"x\": 0.05}, \"xaxis\": {\"automargin\": true, \"gridcolor\": \"white\", \"linecolor\": \"white\", \"ticks\": \"\", \"title\": {\"standoff\": 15}, \"zerolinecolor\": \"white\", \"zerolinewidth\": 2}, \"yaxis\": {\"automargin\": true, \"gridcolor\": \"white\", \"linecolor\": \"white\", \"ticks\": \"\", \"title\": {\"standoff\": 15}, \"zerolinecolor\": \"white\", \"zerolinewidth\": 2}}}, \"title\": {\"text\": \"Sharpe Ratio Analysis of S&P500 and Crypto\"}, \"xaxis\": {\"anchor\": \"y\", \"domain\": [0.0, 1.0], \"title\": {\"text\": \"Ticker\"}}, \"yaxis\": {\"anchor\": \"x\", \"domain\": [0.0, 1.0], \"range\": [-1, 1], \"title\": {\"text\": \"Sharpe Ratios\"}}},                        {\"responsive\": true}                    ).then(function(){\n",
       "                            \n",
       "var gd = document.getElementById('65f76b54-970b-4109-97e7-fbb4a7feef19');\n",
       "var x = new MutationObserver(function (mutations, observer) {{\n",
       "        var display = window.getComputedStyle(gd).display;\n",
       "        if (!display || display === 'none') {{\n",
       "            console.log([gd, 'removed!']);\n",
       "            Plotly.purge(gd);\n",
       "            observer.disconnect();\n",
       "        }}\n",
       "}});\n",
       "\n",
       "// Listen for the removal of the full notebook cells\n",
       "var notebookContainer = gd.closest('#notebook-container');\n",
       "if (notebookContainer) {{\n",
       "    x.observe(notebookContainer, {childList: true});\n",
       "}}\n",
       "\n",
       "// Listen for the clearing of the current output cell\n",
       "var outputEl = gd.closest('.output');\n",
       "if (outputEl) {{\n",
       "    x.observe(outputEl, {childList: true});\n",
       "}}\n",
       "\n",
       "                        })                };                });            </script>        </div>"
      ]
     },
     "metadata": {},
     "output_type": "display_data"
    }
   ],
   "source": [
    "#plot correlation\n",
    "correlation_df_plot = correlation_plot(joined_correlation_df, title = 'Correlation Analysis of S&P500 and Crypto')\n",
    "correlation_df_plot\n",
    "#rolling beta plot\n",
    "rolling_beta_df_plot = rolling_beta_plot(joined_beta_df, period=21, title = 'Rolling Beta Analysis of S&P500 and Crypto')\n",
    "rolling_beta_df_plot\n",
    "#Plot summary including min, max, quartiles, and median with violin plot\n",
    "price_summary_df_plot = price_summary_violin(joined_price_df, title = 'Price Summary Analysis of S&P500 and Crypto')\n",
    "price_summary_df_plot\n",
    "#Plot sharpe ratios\n",
    "sharpe_ratios_df_plot = sharpe_ratios_plot(joined_sharpe_ratios, title = 'Sharpe Ratio Analysis of S&P500 and Crypto')\n",
    "sharpe_ratios_df_plot"
   ]
  },
  {
   "cell_type": "code",
   "execution_count": 27,
   "metadata": {},
   "outputs": [
    {
     "data": {
      "application/vnd.plotly.v1+json": {
       "config": {
        "plotlyServerURL": "https://plot.ly"
       },
       "data": [
        {
         "hovertemplate": "index=%{x}<br>Market Cap=%{y}<br>Price=%{marker.color}<extra></extra>",
         "legendgroup": "",
         "marker": {
          "color": [
           3572.19,
           175.06,
           155.27,
           15638.39,
           12.74,
           458.81,
           4.4,
           24.54
          ],
          "coloraxis": "coloraxis",
          "symbol": "circle"
         },
         "mode": "markers",
         "name": "",
         "orientation": "v",
         "showlegend": false,
         "type": "scatter",
         "x": [
          0,
          1,
          2,
          "bitcoin",
          "chainlink",
          "ethereum",
          "polkadot",
          "tellor"
         ],
         "xaxis": "x",
         "y": [
          null,
          74929963134,
          17838800061,
          290188978882,
          4987154068,
          52029923465,
          4107934077,
          37998801
         ],
         "yaxis": "y"
        }
       ],
       "layout": {
        "autosize": true,
        "coloraxis": {
         "colorbar": {
          "title": {
           "text": "Price"
          }
         },
         "colorscale": [
          [
           0,
           "rgb(150,0,90)"
          ],
          [
           0.125,
           "rgb(0,0,200)"
          ],
          [
           0.25,
           "rgb(0,25,255)"
          ],
          [
           0.375,
           "rgb(0,152,255)"
          ],
          [
           0.5,
           "rgb(44,255,150)"
          ],
          [
           0.625,
           "rgb(151,255,0)"
          ],
          [
           0.75,
           "rgb(255,234,0)"
          ],
          [
           0.875,
           "rgb(255,111,0)"
          ],
          [
           1,
           "rgb(255,0,0)"
          ]
         ]
        },
        "legend": {
         "tracegroupgap": 0
        },
        "template": {
         "data": {
          "bar": [
           {
            "error_x": {
             "color": "#2a3f5f"
            },
            "error_y": {
             "color": "#2a3f5f"
            },
            "marker": {
             "line": {
              "color": "#E5ECF6",
              "width": 0.5
             }
            },
            "type": "bar"
           }
          ],
          "barpolar": [
           {
            "marker": {
             "line": {
              "color": "#E5ECF6",
              "width": 0.5
             }
            },
            "type": "barpolar"
           }
          ],
          "carpet": [
           {
            "aaxis": {
             "endlinecolor": "#2a3f5f",
             "gridcolor": "white",
             "linecolor": "white",
             "minorgridcolor": "white",
             "startlinecolor": "#2a3f5f"
            },
            "baxis": {
             "endlinecolor": "#2a3f5f",
             "gridcolor": "white",
             "linecolor": "white",
             "minorgridcolor": "white",
             "startlinecolor": "#2a3f5f"
            },
            "type": "carpet"
           }
          ],
          "choropleth": [
           {
            "colorbar": {
             "outlinewidth": 0,
             "ticks": ""
            },
            "type": "choropleth"
           }
          ],
          "contour": [
           {
            "colorbar": {
             "outlinewidth": 0,
             "ticks": ""
            },
            "colorscale": [
             [
              0,
              "#0d0887"
             ],
             [
              0.1111111111111111,
              "#46039f"
             ],
             [
              0.2222222222222222,
              "#7201a8"
             ],
             [
              0.3333333333333333,
              "#9c179e"
             ],
             [
              0.4444444444444444,
              "#bd3786"
             ],
             [
              0.5555555555555556,
              "#d8576b"
             ],
             [
              0.6666666666666666,
              "#ed7953"
             ],
             [
              0.7777777777777778,
              "#fb9f3a"
             ],
             [
              0.8888888888888888,
              "#fdca26"
             ],
             [
              1,
              "#f0f921"
             ]
            ],
            "type": "contour"
           }
          ],
          "contourcarpet": [
           {
            "colorbar": {
             "outlinewidth": 0,
             "ticks": ""
            },
            "type": "contourcarpet"
           }
          ],
          "heatmap": [
           {
            "colorbar": {
             "outlinewidth": 0,
             "ticks": ""
            },
            "colorscale": [
             [
              0,
              "#0d0887"
             ],
             [
              0.1111111111111111,
              "#46039f"
             ],
             [
              0.2222222222222222,
              "#7201a8"
             ],
             [
              0.3333333333333333,
              "#9c179e"
             ],
             [
              0.4444444444444444,
              "#bd3786"
             ],
             [
              0.5555555555555556,
              "#d8576b"
             ],
             [
              0.6666666666666666,
              "#ed7953"
             ],
             [
              0.7777777777777778,
              "#fb9f3a"
             ],
             [
              0.8888888888888888,
              "#fdca26"
             ],
             [
              1,
              "#f0f921"
             ]
            ],
            "type": "heatmap"
           }
          ],
          "heatmapgl": [
           {
            "colorbar": {
             "outlinewidth": 0,
             "ticks": ""
            },
            "colorscale": [
             [
              0,
              "#0d0887"
             ],
             [
              0.1111111111111111,
              "#46039f"
             ],
             [
              0.2222222222222222,
              "#7201a8"
             ],
             [
              0.3333333333333333,
              "#9c179e"
             ],
             [
              0.4444444444444444,
              "#bd3786"
             ],
             [
              0.5555555555555556,
              "#d8576b"
             ],
             [
              0.6666666666666666,
              "#ed7953"
             ],
             [
              0.7777777777777778,
              "#fb9f3a"
             ],
             [
              0.8888888888888888,
              "#fdca26"
             ],
             [
              1,
              "#f0f921"
             ]
            ],
            "type": "heatmapgl"
           }
          ],
          "histogram": [
           {
            "marker": {
             "colorbar": {
              "outlinewidth": 0,
              "ticks": ""
             }
            },
            "type": "histogram"
           }
          ],
          "histogram2d": [
           {
            "colorbar": {
             "outlinewidth": 0,
             "ticks": ""
            },
            "colorscale": [
             [
              0,
              "#0d0887"
             ],
             [
              0.1111111111111111,
              "#46039f"
             ],
             [
              0.2222222222222222,
              "#7201a8"
             ],
             [
              0.3333333333333333,
              "#9c179e"
             ],
             [
              0.4444444444444444,
              "#bd3786"
             ],
             [
              0.5555555555555556,
              "#d8576b"
             ],
             [
              0.6666666666666666,
              "#ed7953"
             ],
             [
              0.7777777777777778,
              "#fb9f3a"
             ],
             [
              0.8888888888888888,
              "#fdca26"
             ],
             [
              1,
              "#f0f921"
             ]
            ],
            "type": "histogram2d"
           }
          ],
          "histogram2dcontour": [
           {
            "colorbar": {
             "outlinewidth": 0,
             "ticks": ""
            },
            "colorscale": [
             [
              0,
              "#0d0887"
             ],
             [
              0.1111111111111111,
              "#46039f"
             ],
             [
              0.2222222222222222,
              "#7201a8"
             ],
             [
              0.3333333333333333,
              "#9c179e"
             ],
             [
              0.4444444444444444,
              "#bd3786"
             ],
             [
              0.5555555555555556,
              "#d8576b"
             ],
             [
              0.6666666666666666,
              "#ed7953"
             ],
             [
              0.7777777777777778,
              "#fb9f3a"
             ],
             [
              0.8888888888888888,
              "#fdca26"
             ],
             [
              1,
              "#f0f921"
             ]
            ],
            "type": "histogram2dcontour"
           }
          ],
          "mesh3d": [
           {
            "colorbar": {
             "outlinewidth": 0,
             "ticks": ""
            },
            "type": "mesh3d"
           }
          ],
          "parcoords": [
           {
            "line": {
             "colorbar": {
              "outlinewidth": 0,
              "ticks": ""
             }
            },
            "type": "parcoords"
           }
          ],
          "pie": [
           {
            "automargin": true,
            "type": "pie"
           }
          ],
          "scatter": [
           {
            "marker": {
             "colorbar": {
              "outlinewidth": 0,
              "ticks": ""
             }
            },
            "type": "scatter"
           }
          ],
          "scatter3d": [
           {
            "line": {
             "colorbar": {
              "outlinewidth": 0,
              "ticks": ""
             }
            },
            "marker": {
             "colorbar": {
              "outlinewidth": 0,
              "ticks": ""
             }
            },
            "type": "scatter3d"
           }
          ],
          "scattercarpet": [
           {
            "marker": {
             "colorbar": {
              "outlinewidth": 0,
              "ticks": ""
             }
            },
            "type": "scattercarpet"
           }
          ],
          "scattergeo": [
           {
            "marker": {
             "colorbar": {
              "outlinewidth": 0,
              "ticks": ""
             }
            },
            "type": "scattergeo"
           }
          ],
          "scattergl": [
           {
            "marker": {
             "colorbar": {
              "outlinewidth": 0,
              "ticks": ""
             }
            },
            "type": "scattergl"
           }
          ],
          "scattermapbox": [
           {
            "marker": {
             "colorbar": {
              "outlinewidth": 0,
              "ticks": ""
             }
            },
            "type": "scattermapbox"
           }
          ],
          "scatterpolar": [
           {
            "marker": {
             "colorbar": {
              "outlinewidth": 0,
              "ticks": ""
             }
            },
            "type": "scatterpolar"
           }
          ],
          "scatterpolargl": [
           {
            "marker": {
             "colorbar": {
              "outlinewidth": 0,
              "ticks": ""
             }
            },
            "type": "scatterpolargl"
           }
          ],
          "scatterternary": [
           {
            "marker": {
             "colorbar": {
              "outlinewidth": 0,
              "ticks": ""
             }
            },
            "type": "scatterternary"
           }
          ],
          "surface": [
           {
            "colorbar": {
             "outlinewidth": 0,
             "ticks": ""
            },
            "colorscale": [
             [
              0,
              "#0d0887"
             ],
             [
              0.1111111111111111,
              "#46039f"
             ],
             [
              0.2222222222222222,
              "#7201a8"
             ],
             [
              0.3333333333333333,
              "#9c179e"
             ],
             [
              0.4444444444444444,
              "#bd3786"
             ],
             [
              0.5555555555555556,
              "#d8576b"
             ],
             [
              0.6666666666666666,
              "#ed7953"
             ],
             [
              0.7777777777777778,
              "#fb9f3a"
             ],
             [
              0.8888888888888888,
              "#fdca26"
             ],
             [
              1,
              "#f0f921"
             ]
            ],
            "type": "surface"
           }
          ],
          "table": [
           {
            "cells": {
             "fill": {
              "color": "#EBF0F8"
             },
             "line": {
              "color": "white"
             }
            },
            "header": {
             "fill": {
              "color": "#C8D4E3"
             },
             "line": {
              "color": "white"
             }
            },
            "type": "table"
           }
          ]
         },
         "layout": {
          "annotationdefaults": {
           "arrowcolor": "#2a3f5f",
           "arrowhead": 0,
           "arrowwidth": 1
          },
          "coloraxis": {
           "colorbar": {
            "outlinewidth": 0,
            "ticks": ""
           }
          },
          "colorscale": {
           "diverging": [
            [
             0,
             "#8e0152"
            ],
            [
             0.1,
             "#c51b7d"
            ],
            [
             0.2,
             "#de77ae"
            ],
            [
             0.3,
             "#f1b6da"
            ],
            [
             0.4,
             "#fde0ef"
            ],
            [
             0.5,
             "#f7f7f7"
            ],
            [
             0.6,
             "#e6f5d0"
            ],
            [
             0.7,
             "#b8e186"
            ],
            [
             0.8,
             "#7fbc41"
            ],
            [
             0.9,
             "#4d9221"
            ],
            [
             1,
             "#276419"
            ]
           ],
           "sequential": [
            [
             0,
             "#0d0887"
            ],
            [
             0.1111111111111111,
             "#46039f"
            ],
            [
             0.2222222222222222,
             "#7201a8"
            ],
            [
             0.3333333333333333,
             "#9c179e"
            ],
            [
             0.4444444444444444,
             "#bd3786"
            ],
            [
             0.5555555555555556,
             "#d8576b"
            ],
            [
             0.6666666666666666,
             "#ed7953"
            ],
            [
             0.7777777777777778,
             "#fb9f3a"
            ],
            [
             0.8888888888888888,
             "#fdca26"
            ],
            [
             1,
             "#f0f921"
            ]
           ],
           "sequentialminus": [
            [
             0,
             "#0d0887"
            ],
            [
             0.1111111111111111,
             "#46039f"
            ],
            [
             0.2222222222222222,
             "#7201a8"
            ],
            [
             0.3333333333333333,
             "#9c179e"
            ],
            [
             0.4444444444444444,
             "#bd3786"
            ],
            [
             0.5555555555555556,
             "#d8576b"
            ],
            [
             0.6666666666666666,
             "#ed7953"
            ],
            [
             0.7777777777777778,
             "#fb9f3a"
            ],
            [
             0.8888888888888888,
             "#fdca26"
            ],
            [
             1,
             "#f0f921"
            ]
           ]
          },
          "colorway": [
           "#636efa",
           "#EF553B",
           "#00cc96",
           "#ab63fa",
           "#FFA15A",
           "#19d3f3",
           "#FF6692",
           "#B6E880",
           "#FF97FF",
           "#FECB52"
          ],
          "font": {
           "color": "#2a3f5f"
          },
          "geo": {
           "bgcolor": "white",
           "lakecolor": "white",
           "landcolor": "#E5ECF6",
           "showlakes": true,
           "showland": true,
           "subunitcolor": "white"
          },
          "hoverlabel": {
           "align": "left"
          },
          "hovermode": "closest",
          "mapbox": {
           "style": "light"
          },
          "paper_bgcolor": "white",
          "plot_bgcolor": "#E5ECF6",
          "polar": {
           "angularaxis": {
            "gridcolor": "white",
            "linecolor": "white",
            "ticks": ""
           },
           "bgcolor": "#E5ECF6",
           "radialaxis": {
            "gridcolor": "white",
            "linecolor": "white",
            "ticks": ""
           }
          },
          "scene": {
           "xaxis": {
            "backgroundcolor": "#E5ECF6",
            "gridcolor": "white",
            "gridwidth": 2,
            "linecolor": "white",
            "showbackground": true,
            "ticks": "",
            "zerolinecolor": "white"
           },
           "yaxis": {
            "backgroundcolor": "#E5ECF6",
            "gridcolor": "white",
            "gridwidth": 2,
            "linecolor": "white",
            "showbackground": true,
            "ticks": "",
            "zerolinecolor": "white"
           },
           "zaxis": {
            "backgroundcolor": "#E5ECF6",
            "gridcolor": "white",
            "gridwidth": 2,
            "linecolor": "white",
            "showbackground": true,
            "ticks": "",
            "zerolinecolor": "white"
           }
          },
          "shapedefaults": {
           "line": {
            "color": "#2a3f5f"
           }
          },
          "ternary": {
           "aaxis": {
            "gridcolor": "white",
            "linecolor": "white",
            "ticks": ""
           },
           "baxis": {
            "gridcolor": "white",
            "linecolor": "white",
            "ticks": ""
           },
           "bgcolor": "#E5ECF6",
           "caxis": {
            "gridcolor": "white",
            "linecolor": "white",
            "ticks": ""
           }
          },
          "title": {
           "x": 0.05
          },
          "xaxis": {
           "automargin": true,
           "gridcolor": "white",
           "linecolor": "white",
           "ticks": "",
           "title": {
            "standoff": 15
           },
           "zerolinecolor": "white",
           "zerolinewidth": 2
          },
          "yaxis": {
           "automargin": true,
           "gridcolor": "white",
           "linecolor": "white",
           "ticks": "",
           "title": {
            "standoff": 15
           },
           "zerolinecolor": "white",
           "zerolinewidth": 2
          }
         }
        },
        "title": {
         "text": "Market Analysis of Your Porfolio"
        },
        "xaxis": {
         "anchor": "y",
         "autorange": true,
         "domain": [
          0,
          1
         ],
         "range": [
          -0.11923564395047287,
          2.1192356439504727
         ],
         "title": {
          "text": "index"
         },
         "type": "linear"
        },
        "yaxis": {
         "anchor": "x",
         "autorange": true,
         "domain": [
          0,
          1
         ],
         "range": [
          -21215098466.07962,
          311442076149.0796
         ],
         "title": {
          "text": "Market Cap"
         },
         "type": "linear"
        }
       }
      },
      "image/png": "[encoded data removed]",
      "text/html": [
       "<div>                            <div id=\"71724741-2502-483f-a1e7-0291e5220d20\" class=\"plotly-graph-div\" style=\"height:525px; width:100%;\"></div>            <script type=\"text/javascript\">                require([\"plotly\"], function(Plotly) {                    window.PLOTLYENV=window.PLOTLYENV || {};                                    if (document.getElementById(\"71724741-2502-483f-a1e7-0291e5220d20\")) {                    Plotly.newPlot(                        \"71724741-2502-483f-a1e7-0291e5220d20\",                        [{\"hovertemplate\": \"index=%{x}<br>Market Cap=%{y}<br>Price=%{marker.color}<extra></extra>\", \"legendgroup\": \"\", \"marker\": {\"color\": [3572.19, 175.06, 155.27, 15638.39, 12.74, 458.81, 4.4, 24.54], \"coloraxis\": \"coloraxis\", \"symbol\": \"circle\"}, \"mode\": \"markers\", \"name\": \"\", \"orientation\": \"v\", \"showlegend\": false, \"type\": \"scatter\", \"x\": [0, 1, 2, \"bitcoin\", \"chainlink\", \"ethereum\", \"polkadot\", \"tellor\"], \"xaxis\": \"x\", \"y\": [null, 74929963134.0, 17838800061.0, 290188978882.0, 4987154068.0, 52029923465.0, 4107934077.0, 37998801.0], \"yaxis\": \"y\"}],                        {\"coloraxis\": {\"colorbar\": {\"title\": {\"text\": \"Price\"}}, \"colorscale\": [[0.0, \"rgb(150,0,90)\"], [0.125, \"rgb(0,0,200)\"], [0.25, \"rgb(0,25,255)\"], [0.375, \"rgb(0,152,255)\"], [0.5, \"rgb(44,255,150)\"], [0.625, \"rgb(151,255,0)\"], [0.75, \"rgb(255,234,0)\"], [0.875, \"rgb(255,111,0)\"], [1.0, \"rgb(255,0,0)\"]]}, \"legend\": {\"tracegroupgap\": 0}, \"template\": {\"data\": {\"bar\": [{\"error_x\": {\"color\": \"#2a3f5f\"}, \"error_y\": {\"color\": \"#2a3f5f\"}, \"marker\": {\"line\": {\"color\": \"#E5ECF6\", \"width\": 0.5}}, \"type\": \"bar\"}], \"barpolar\": [{\"marker\": {\"line\": {\"color\": \"#E5ECF6\", \"width\": 0.5}}, \"type\": \"barpolar\"}], \"carpet\": [{\"aaxis\": {\"endlinecolor\": \"#2a3f5f\", \"gridcolor\": \"white\", \"linecolor\": \"white\", \"minorgridcolor\": \"white\", \"startlinecolor\": \"#2a3f5f\"}, \"baxis\": {\"endlinecolor\": \"#2a3f5f\", \"gridcolor\": \"white\", \"linecolor\": \"white\", \"minorgridcolor\": \"white\", \"startlinecolor\": \"#2a3f5f\"}, \"type\": \"carpet\"}], \"choropleth\": [{\"colorbar\": {\"outlinewidth\": 0, \"ticks\": \"\"}, \"type\": \"choropleth\"}], \"contour\": [{\"colorbar\": {\"outlinewidth\": 0, \"ticks\": \"\"}, \"colorscale\": [[0.0, \"#0d0887\"], [0.1111111111111111, \"#46039f\"], [0.2222222222222222, \"#7201a8\"], [0.3333333333333333, \"#9c179e\"], [0.4444444444444444, \"#bd3786\"], [0.5555555555555556, \"#d8576b\"], [0.6666666666666666, \"#ed7953\"], [0.7777777777777778, \"#fb9f3a\"], [0.8888888888888888, \"#fdca26\"], [1.0, \"#f0f921\"]], \"type\": \"contour\"}], \"contourcarpet\": [{\"colorbar\": {\"outlinewidth\": 0, \"ticks\": \"\"}, \"type\": \"contourcarpet\"}], \"heatmap\": [{\"colorbar\": {\"outlinewidth\": 0, \"ticks\": \"\"}, \"colorscale\": [[0.0, \"#0d0887\"], [0.1111111111111111, \"#46039f\"], [0.2222222222222222, \"#7201a8\"], [0.3333333333333333, \"#9c179e\"], [0.4444444444444444, \"#bd3786\"], [0.5555555555555556, \"#d8576b\"], [0.6666666666666666, \"#ed7953\"], [0.7777777777777778, \"#fb9f3a\"], [0.8888888888888888, \"#fdca26\"], [1.0, \"#f0f921\"]], \"type\": \"heatmap\"}], \"heatmapgl\": [{\"colorbar\": {\"outlinewidth\": 0, \"ticks\": \"\"}, \"colorscale\": [[0.0, \"#0d0887\"], [0.1111111111111111, \"#46039f\"], [0.2222222222222222, \"#7201a8\"], [0.3333333333333333, \"#9c179e\"], [0.4444444444444444, \"#bd3786\"], [0.5555555555555556, \"#d8576b\"], [0.6666666666666666, \"#ed7953\"], [0.7777777777777778, \"#fb9f3a\"], [0.8888888888888888, \"#fdca26\"], [1.0, \"#f0f921\"]], \"type\": \"heatmapgl\"}], \"histogram\": [{\"marker\": {\"colorbar\": {\"outlinewidth\": 0, \"ticks\": \"\"}}, \"type\": \"histogram\"}], \"histogram2d\": [{\"colorbar\": {\"outlinewidth\": 0, \"ticks\": \"\"}, \"colorscale\": [[0.0, \"#0d0887\"], [0.1111111111111111, \"#46039f\"], [0.2222222222222222, \"#7201a8\"], [0.3333333333333333, \"#9c179e\"], [0.4444444444444444, \"#bd3786\"], [0.5555555555555556, \"#d8576b\"], [0.6666666666666666, \"#ed7953\"], [0.7777777777777778, \"#fb9f3a\"], [0.8888888888888888, \"#fdca26\"], [1.0, \"#f0f921\"]], \"type\": \"histogram2d\"}], \"histogram2dcontour\": [{\"colorbar\": {\"outlinewidth\": 0, \"ticks\": \"\"}, \"colorscale\": [[0.0, \"#0d0887\"], [0.1111111111111111, \"#46039f\"], [0.2222222222222222, \"#7201a8\"], [0.3333333333333333, \"#9c179e\"], [0.4444444444444444, \"#bd3786\"], [0.5555555555555556, \"#d8576b\"], [0.6666666666666666, \"#ed7953\"], [0.7777777777777778, \"#fb9f3a\"], [0.8888888888888888, \"#fdca26\"], [1.0, \"#f0f921\"]], \"type\": \"histogram2dcontour\"}], \"mesh3d\": [{\"colorbar\": {\"outlinewidth\": 0, \"ticks\": \"\"}, \"type\": \"mesh3d\"}], \"parcoords\": [{\"line\": {\"colorbar\": {\"outlinewidth\": 0, \"ticks\": \"\"}}, \"type\": \"parcoords\"}], \"pie\": [{\"automargin\": true, \"type\": \"pie\"}], \"scatter\": [{\"marker\": {\"colorbar\": {\"outlinewidth\": 0, \"ticks\": \"\"}}, \"type\": \"scatter\"}], \"scatter3d\": [{\"line\": {\"colorbar\": {\"outlinewidth\": 0, \"ticks\": \"\"}}, \"marker\": {\"colorbar\": {\"outlinewidth\": 0, \"ticks\": \"\"}}, \"type\": \"scatter3d\"}], \"scattercarpet\": [{\"marker\": {\"colorbar\": {\"outlinewidth\": 0, \"ticks\": \"\"}}, \"type\": \"scattercarpet\"}], \"scattergeo\": [{\"marker\": {\"colorbar\": {\"outlinewidth\": 0, \"ticks\": \"\"}}, \"type\": \"scattergeo\"}], \"scattergl\": [{\"marker\": {\"colorbar\": {\"outlinewidth\": 0, \"ticks\": \"\"}}, \"type\": \"scattergl\"}], \"scattermapbox\": [{\"marker\": {\"colorbar\": {\"outlinewidth\": 0, \"ticks\": \"\"}}, \"type\": \"scattermapbox\"}], \"scatterpolar\": [{\"marker\": {\"colorbar\": {\"outlinewidth\": 0, \"ticks\": \"\"}}, \"type\": \"scatterpolar\"}], \"scatterpolargl\": [{\"marker\": {\"colorbar\": {\"outlinewidth\": 0, \"ticks\": \"\"}}, \"type\": \"scatterpolargl\"}], \"scatterternary\": [{\"marker\": {\"colorbar\": {\"outlinewidth\": 0, \"ticks\": \"\"}}, \"type\": \"scatterternary\"}], \"surface\": [{\"colorbar\": {\"outlinewidth\": 0, \"ticks\": \"\"}, \"colorscale\": [[0.0, \"#0d0887\"], [0.1111111111111111, \"#46039f\"], [0.2222222222222222, \"#7201a8\"], [0.3333333333333333, \"#9c179e\"], [0.4444444444444444, \"#bd3786\"], [0.5555555555555556, \"#d8576b\"], [0.6666666666666666, \"#ed7953\"], [0.7777777777777778, \"#fb9f3a\"], [0.8888888888888888, \"#fdca26\"], [1.0, \"#f0f921\"]], \"type\": \"surface\"}], \"table\": [{\"cells\": {\"fill\": {\"color\": \"#EBF0F8\"}, \"line\": {\"color\": \"white\"}}, \"header\": {\"fill\": {\"color\": \"#C8D4E3\"}, \"line\": {\"color\": \"white\"}}, \"type\": \"table\"}]}, \"layout\": {\"annotationdefaults\": {\"arrowcolor\": \"#2a3f5f\", \"arrowhead\": 0, \"arrowwidth\": 1}, \"coloraxis\": {\"colorbar\": {\"outlinewidth\": 0, \"ticks\": \"\"}}, \"colorscale\": {\"diverging\": [[0, \"#8e0152\"], [0.1, \"#c51b7d\"], [0.2, \"#de77ae\"], [0.3, \"#f1b6da\"], [0.4, \"#fde0ef\"], [0.5, \"#f7f7f7\"], [0.6, \"#e6f5d0\"], [0.7, \"#b8e186\"], [0.8, \"#7fbc41\"], [0.9, \"#4d9221\"], [1, \"#276419\"]], \"sequential\": [[0.0, \"#0d0887\"], [0.1111111111111111, \"#46039f\"], [0.2222222222222222, \"#7201a8\"], [0.3333333333333333, \"#9c179e\"], [0.4444444444444444, \"#bd3786\"], [0.5555555555555556, \"#d8576b\"], [0.6666666666666666, \"#ed7953\"], [0.7777777777777778, \"#fb9f3a\"], [0.8888888888888888, \"#fdca26\"], [1.0, \"#f0f921\"]], \"sequentialminus\": [[0.0, \"#0d0887\"], [0.1111111111111111, \"#46039f\"], [0.2222222222222222, \"#7201a8\"], [0.3333333333333333, \"#9c179e\"], [0.4444444444444444, \"#bd3786\"], [0.5555555555555556, \"#d8576b\"], [0.6666666666666666, \"#ed7953\"], [0.7777777777777778, \"#fb9f3a\"], [0.8888888888888888, \"#fdca26\"], [1.0, \"#f0f921\"]]}, \"colorway\": [\"#636efa\", \"#EF553B\", \"#00cc96\", \"#ab63fa\", \"#FFA15A\", \"#19d3f3\", \"#FF6692\", \"#B6E880\", \"#FF97FF\", \"#FECB52\"], \"font\": {\"color\": \"#2a3f5f\"}, \"geo\": {\"bgcolor\": \"white\", \"lakecolor\": \"white\", \"landcolor\": \"#E5ECF6\", \"showlakes\": true, \"showland\": true, \"subunitcolor\": \"white\"}, \"hoverlabel\": {\"align\": \"left\"}, \"hovermode\": \"closest\", \"mapbox\": {\"style\": \"light\"}, \"paper_bgcolor\": \"white\", \"plot_bgcolor\": \"#E5ECF6\", \"polar\": {\"angularaxis\": {\"gridcolor\": \"white\", \"linecolor\": \"white\", \"ticks\": \"\"}, \"bgcolor\": \"#E5ECF6\", \"radialaxis\": {\"gridcolor\": \"white\", \"linecolor\": \"white\", \"ticks\": \"\"}}, \"scene\": {\"xaxis\": {\"backgroundcolor\": \"#E5ECF6\", \"gridcolor\": \"white\", \"gridwidth\": 2, \"linecolor\": \"white\", \"showbackground\": true, \"ticks\": \"\", \"zerolinecolor\": \"white\"}, \"yaxis\": {\"backgroundcolor\": \"#E5ECF6\", \"gridcolor\": \"white\", \"gridwidth\": 2, \"linecolor\": \"white\", \"showbackground\": true, \"ticks\": \"\", \"zerolinecolor\": \"white\"}, \"zaxis\": {\"backgroundcolor\": \"#E5ECF6\", \"gridcolor\": \"white\", \"gridwidth\": 2, \"linecolor\": \"white\", \"showbackground\": true, \"ticks\": \"\", \"zerolinecolor\": \"white\"}}, \"shapedefaults\": {\"line\": {\"color\": \"#2a3f5f\"}}, \"ternary\": {\"aaxis\": {\"gridcolor\": \"white\", \"linecolor\": \"white\", \"ticks\": \"\"}, \"baxis\": {\"gridcolor\": \"white\", \"linecolor\": \"white\", \"ticks\": \"\"}, \"bgcolor\": \"#E5ECF6\", \"caxis\": {\"gridcolor\": \"white\", \"linecolor\": \"white\", \"ticks\": \"\"}}, \"title\": {\"x\": 0.05}, \"xaxis\": {\"automargin\": true, \"gridcolor\": \"white\", \"linecolor\": \"white\", \"ticks\": \"\", \"title\": {\"standoff\": 15}, \"zerolinecolor\": \"white\", \"zerolinewidth\": 2}, \"yaxis\": {\"automargin\": true, \"gridcolor\": \"white\", \"linecolor\": \"white\", \"ticks\": \"\", \"title\": {\"standoff\": 15}, \"zerolinecolor\": \"white\", \"zerolinewidth\": 2}}}, \"title\": {\"text\": \"Market Analysis of Your Porfolio\"}, \"xaxis\": {\"anchor\": \"y\", \"domain\": [0.0, 1.0], \"title\": {\"text\": \"index\"}}, \"yaxis\": {\"anchor\": \"x\", \"domain\": [0.0, 1.0], \"title\": {\"text\": \"Market Cap\"}}},                        {\"responsive\": true}                    ).then(function(){\n",
       "                            \n",
       "var gd = document.getElementById('71724741-2502-483f-a1e7-0291e5220d20');\n",
       "var x = new MutationObserver(function (mutations, observer) {{\n",
       "        var display = window.getComputedStyle(gd).display;\n",
       "        if (!display || display === 'none') {{\n",
       "            console.log([gd, 'removed!']);\n",
       "            Plotly.purge(gd);\n",
       "            observer.disconnect();\n",
       "        }}\n",
       "}});\n",
       "\n",
       "// Listen for the removal of the full notebook cells\n",
       "var notebookContainer = gd.closest('#notebook-container');\n",
       "if (notebookContainer) {{\n",
       "    x.observe(notebookContainer, {childList: true});\n",
       "}}\n",
       "\n",
       "// Listen for the clearing of the current output cell\n",
       "var outputEl = gd.closest('.output');\n",
       "if (outputEl) {{\n",
       "    x.observe(outputEl, {childList: true});\n",
       "}}\n",
       "\n",
       "                        })                };                });            </script>        </div>"
      ]
     },
     "metadata": {},
     "output_type": "display_data"
    }
   ],
   "source": [
    "#summary analysis parallel categories plot\n",
    "summary_analysis_cat_plot = parallel_cat_plot(portfolio_df)\n",
    "summary_analysis_cat_plot \n",
    "#volume change scatter plot\n",
    "volume_change_df_plot = volume_change_plot(portfolio_df)\n",
    "volume_change_df_plot\n",
    "#market cap and price plot \n",
    "price_market_cp_df_plot = price_market_cap_plot(portfolio_df)\n",
    "price_market_cp_df_plot"
   ]
  },
  {
   "cell_type": "code",
   "execution_count": 28,
   "metadata": {},
   "outputs": [
    {
     "data": {
      "text/html": [
       "<div>\n",
       "<style scoped>\n",
       "    .dataframe tbody tr th:only-of-type {\n",
       "        vertical-align: middle;\n",
       "    }\n",
       "\n",
       "    .dataframe tbody tr th {\n",
       "        vertical-align: top;\n",
       "    }\n",
       "\n",
       "    .dataframe thead th {\n",
       "        text-align: right;\n",
       "    }\n",
       "</style>\n",
       "<table border=\"1\" class=\"dataframe\">\n",
       "  <thead>\n",
       "    <tr style=\"text-align: right;\">\n",
       "      <th></th>\n",
       "      <th>Price</th>\n",
       "      <th>Market Cap</th>\n",
       "      <th>24h Volume</th>\n",
       "      <th>24h Change</th>\n",
       "    </tr>\n",
       "    <tr>\n",
       "      <th>Ticker</th>\n",
       "      <th></th>\n",
       "      <th></th>\n",
       "      <th></th>\n",
       "      <th></th>\n",
       "    </tr>\n",
       "  </thead>\n",
       "  <tbody>\n",
       "    <tr>\n",
       "      <th>0</th>\n",
       "      <td>3572.19</td>\n",
       "      <td>NaN</td>\n",
       "      <td>8.857605e+08</td>\n",
       "      <td>26.66</td>\n",
       "    </tr>\n",
       "    <tr>\n",
       "      <th>1</th>\n",
       "      <td>175.06</td>\n",
       "      <td>7.492996e+10</td>\n",
       "      <td>8.478560e+05</td>\n",
       "      <td>-0.60</td>\n",
       "    </tr>\n",
       "    <tr>\n",
       "      <th>2</th>\n",
       "      <td>155.27</td>\n",
       "      <td>1.783880e+10</td>\n",
       "      <td>1.889939e+06</td>\n",
       "      <td>0.11</td>\n",
       "    </tr>\n",
       "    <tr>\n",
       "      <th>bitcoin</th>\n",
       "      <td>15638.39</td>\n",
       "      <td>2.901890e+11</td>\n",
       "      <td>2.349755e+10</td>\n",
       "      <td>1.85</td>\n",
       "    </tr>\n",
       "    <tr>\n",
       "      <th>chainlink</th>\n",
       "      <td>12.74</td>\n",
       "      <td>4.987154e+09</td>\n",
       "      <td>9.505938e+08</td>\n",
       "      <td>-2.73</td>\n",
       "    </tr>\n",
       "    <tr>\n",
       "      <th>ethereum</th>\n",
       "      <td>458.81</td>\n",
       "      <td>5.202992e+10</td>\n",
       "      <td>1.096502e+10</td>\n",
       "      <td>-0.29</td>\n",
       "    </tr>\n",
       "    <tr>\n",
       "      <th>polkadot</th>\n",
       "      <td>4.40</td>\n",
       "      <td>4.107934e+09</td>\n",
       "      <td>1.261896e+08</td>\n",
       "      <td>-1.44</td>\n",
       "    </tr>\n",
       "    <tr>\n",
       "      <th>tellor</th>\n",
       "      <td>24.54</td>\n",
       "      <td>3.799880e+07</td>\n",
       "      <td>4.195746e+07</td>\n",
       "      <td>-0.10</td>\n",
       "    </tr>\n",
       "  </tbody>\n",
       "</table>\n",
       "</div>"
      ],
      "text/plain": [
       "              Price    Market Cap    24h Volume  24h Change\n",
       "Ticker                                                     \n",
       "0           3572.19           NaN  8.857605e+08       26.66\n",
       "1            175.06  7.492996e+10  8.478560e+05       -0.60\n",
       "2            155.27  1.783880e+10  1.889939e+06        0.11\n",
       "bitcoin    15638.39  2.901890e+11  2.349755e+10        1.85\n",
       "chainlink     12.74  4.987154e+09  9.505938e+08       -2.73\n",
       "ethereum     458.81  5.202992e+10  1.096502e+10       -0.29\n",
       "polkadot       4.40  4.107934e+09  1.261896e+08       -1.44\n",
       "tellor        24.54  3.799880e+07  4.195746e+07       -0.10"
      ]
     },
     "execution_count": 28,
     "metadata": {},
     "output_type": "execute_result"
    }
   ],
   "source": [
    "portfolio_df_final = portfolio_df.rename(columns = {'index':'Ticker'})\n",
    "portfolio_df_final = portfolio_df_final.set_index('Ticker')\n",
    "portfolio_df_final"
   ]
  },
  {
   "cell_type": "code",
   "execution_count": 11,
   "metadata": {},
   "outputs": [
    {
     "data": {},
     "metadata": {},
     "output_type": "display_data"
    },
    {
     "data": {},
     "metadata": {},
     "output_type": "display_data"
    },
    {
     "data": {
      "application/vnd.holoviews_exec.v0+json": "",
      "text/html": [
       "<div id='1001'>\n",
       "\n",
       "\n",
       "\n",
       "\n",
       "\n",
       "  <div class=\"bk-root\" id=\"d389acf3-2267-4241-aed5-8e037d6a8138\" data-root-id=\"1001\"></div>\n",
       "</div>\n",
       "<script type=\"application/javascript\">(function(root) {\n",
       "  function embed_document(root) {\n",
       "  var docs_json = {\"d735c786-f97b-4806-b08f-dbbe5c088c66\":{\"roots\":{\"references\":[{\"attributes\":{\"axis_label\":\"\",\"bounds\":\"auto\",\"formatter\":{\"id\":\"1045\"},\"major_label_orientation\":\"horizontal\",\"ticker\":{\"id\":\"1018\"}},\"id\":\"1017\",\"type\":\"LinearAxis\"},{\"attributes\":{},\"id\":\"1051\",\"type\":\"UnionRenderers\"},{\"attributes\":{\"client_comm_id\":\"5ab1553579ef4878b183cdb006d74330\",\"comm_id\":\"8711c6f7ec5b4962a771fe3bec167d29\",\"plot_id\":\"1001\"},\"id\":\"1086\",\"type\":\"panel.models.comm_manager.CommManager\"},{\"attributes\":{\"children\":[{\"id\":\"1005\"}],\"margin\":[0,0,0,0],\"name\":\"Row01595\"},\"id\":\"1001\",\"type\":\"Row\"},{\"attributes\":{\"fill_color\":{\"value\":\"#1f77b3\"},\"top\":{\"field\":\"A_0\"},\"width\":{\"value\":0.8},\"x\":{\"field\":\"Cumulative_Returns\"}},\"id\":\"1037\",\"type\":\"VBar\"},{\"attributes\":{},\"id\":\"1023\",\"type\":\"WheelZoomTool\"},{\"attributes\":{\"bottom_units\":\"screen\",\"fill_alpha\":0.5,\"fill_color\":\"lightgrey\",\"left_units\":\"screen\",\"level\":\"overlay\",\"line_alpha\":1.0,\"line_color\":\"black\",\"line_dash\":[4,4],\"line_width\":2,\"right_units\":\"screen\",\"top_units\":\"screen\"},\"id\":\"1026\",\"type\":\"BoxAnnotation\"},{\"attributes\":{\"active_drag\":\"auto\",\"active_inspect\":\"auto\",\"active_multi\":null,\"active_scroll\":\"auto\",\"active_tap\":\"auto\",\"tools\":[{\"id\":\"1004\"},{\"id\":\"1021\"},{\"id\":\"1022\"},{\"id\":\"1023\"},{\"id\":\"1024\"},{\"id\":\"1025\"}]},\"id\":\"1027\",\"type\":\"Toolbar\"},{\"attributes\":{\"end\":108487.2451248206,\"reset_end\":108487.2451248206,\"reset_start\":0.0,\"tags\":[[[\"0\",\"0\",null]]]},\"id\":\"1003\",\"type\":\"Range1d\"},{\"attributes\":{},\"id\":\"1010\",\"type\":\"CategoricalScale\"},{\"attributes\":{},\"id\":\"1025\",\"type\":\"ResetTool\"},{\"attributes\":{\"source\":{\"id\":\"1034\"}},\"id\":\"1041\",\"type\":\"CDSView\"},{\"attributes\":{\"data_source\":{\"id\":\"1034\"},\"glyph\":{\"id\":\"1037\"},\"hover_glyph\":null,\"muted_glyph\":{\"id\":\"1039\"},\"nonselection_glyph\":{\"id\":\"1038\"},\"selection_glyph\":null,\"view\":{\"id\":\"1041\"}},\"id\":\"1040\",\"type\":\"GlyphRenderer\"},{\"attributes\":{},\"id\":\"1012\",\"type\":\"LinearScale\"},{\"attributes\":{\"axis\":{\"id\":\"1014\"},\"grid_line_color\":null,\"ticker\":null},\"id\":\"1016\",\"type\":\"Grid\"},{\"attributes\":{},\"id\":\"1021\",\"type\":\"SaveTool\"},{\"attributes\":{\"overlay\":{\"id\":\"1026\"}},\"id\":\"1024\",\"type\":\"BoxZoomTool\"},{\"attributes\":{\"align\":null,\"below\":[{\"id\":\"1014\"}],\"center\":[{\"id\":\"1016\"},{\"id\":\"1020\"}],\"left\":[{\"id\":\"1017\"}],\"margin\":null,\"min_border_bottom\":10,\"min_border_left\":10,\"min_border_right\":10,\"min_border_top\":10,\"plot_height\":300,\"plot_width\":700,\"renderers\":[{\"id\":\"1040\"}],\"sizing_mode\":\"fixed\",\"title\":{\"id\":\"1006\"},\"toolbar\":{\"id\":\"1027\"},\"x_range\":{\"id\":\"1002\"},\"x_scale\":{\"id\":\"1010\"},\"y_range\":{\"id\":\"1003\"},\"y_scale\":{\"id\":\"1012\"}},\"id\":\"1005\",\"subtype\":\"Figure\",\"type\":\"Plot\"},{\"attributes\":{\"factors\":[\"bitcoin\",\"ethereum\",\"chainlink\",\"polkadot\",\"tellor\",\"S&P\",\"Gold\",\"20Yr\"],\"tags\":[[[\"Cumulative Returns\",\"Cumulative Returns\",null]]]},\"id\":\"1002\",\"type\":\"FactorRange\"},{\"attributes\":{},\"id\":\"1035\",\"type\":\"Selection\"},{\"attributes\":{\"axis_label\":\"Cumulative Returns\",\"bounds\":\"auto\",\"formatter\":{\"id\":\"1043\"},\"major_label_orientation\":\"horizontal\",\"ticker\":{\"id\":\"1015\"}},\"id\":\"1014\",\"type\":\"CategoricalAxis\"},{\"attributes\":{\"fill_alpha\":{\"value\":0.2},\"fill_color\":{\"value\":\"#1f77b3\"},\"line_alpha\":{\"value\":0.2},\"top\":{\"field\":\"A_0\"},\"width\":{\"value\":0.8},\"x\":{\"field\":\"Cumulative_Returns\"}},\"id\":\"1039\",\"type\":\"VBar\"},{\"attributes\":{},\"id\":\"1043\",\"type\":\"CategoricalTickFormatter\"},{\"attributes\":{},\"id\":\"1018\",\"type\":\"BasicTicker\"},{\"attributes\":{\"fill_alpha\":{\"value\":0.1},\"fill_color\":{\"value\":\"#1f77b3\"},\"line_alpha\":{\"value\":0.1},\"top\":{\"field\":\"A_0\"},\"width\":{\"value\":0.8},\"x\":{\"field\":\"Cumulative_Returns\"}},\"id\":\"1038\",\"type\":\"VBar\"},{\"attributes\":{\"data\":{\"A_0\":{\"__ndarray__\":\"eaRIDfud1UCwi3hyOlHAQJj/1tGHFPhAbkTGsy87VUDaskeMc4yqQNXIl90qqZhAlFPyy99xl0CdL4wOOU6VQA==\",\"dtype\":\"float64\",\"order\":\"little\",\"shape\":[8]},\"Cumulative_Returns\":[\"bitcoin\",\"ethereum\",\"chainlink\",\"polkadot\",\"tellor\",\"S&P\",\"Gold\",\"20Yr\"]},\"selected\":{\"id\":\"1035\"},\"selection_policy\":{\"id\":\"1051\"}},\"id\":\"1034\",\"type\":\"ColumnDataSource\"},{\"attributes\":{\"callback\":null,\"renderers\":[{\"id\":\"1040\"}],\"tags\":[\"hv_created\"],\"tooltips\":[[\"Cumulative Returns\",\"@{Cumulative_Returns}\"],[\"0\",\"@{A_0}\"]]},\"id\":\"1004\",\"type\":\"HoverTool\"},{\"attributes\":{},\"id\":\"1015\",\"type\":\"CategoricalTicker\"},{\"attributes\":{\"axis\":{\"id\":\"1017\"},\"dimension\":1,\"grid_line_color\":null,\"ticker\":null},\"id\":\"1020\",\"type\":\"Grid\"},{\"attributes\":{\"text\":\"Summary of Cummulative Returns by CryptoCurrency vs Multiple Assets\",\"text_color\":{\"value\":\"black\"},\"text_font_size\":{\"value\":\"12pt\"}},\"id\":\"1006\",\"type\":\"Title\"},{\"attributes\":{},\"id\":\"1045\",\"type\":\"BasicTickFormatter\"},{\"attributes\":{},\"id\":\"1022\",\"type\":\"PanTool\"}],\"root_ids\":[\"1001\",\"1086\"]},\"title\":\"Bokeh Application\",\"version\":\"2.1.1\"}};\n",
       "  var render_items = [{\"docid\":\"d735c786-f97b-4806-b08f-dbbe5c088c66\",\"root_ids\":[\"1001\"],\"roots\":{\"1001\":\"d389acf3-2267-4241-aed5-8e037d6a8138\"}}];\n",
       "  root.Bokeh.embed.embed_items_notebook(docs_json, render_items);\n",
       "  }\n",
       "if (root.Bokeh !== undefined) {\n",
       "    embed_document(root);\n",
       "  } else {\n",
       "    var attempts = 0;\n",
       "    var timer = setInterval(function(root) {\n",
       "      if (root.Bokeh !== undefined) {\n",
       "        clearInterval(timer);\n",
       "        embed_document(root);\n",
       "      } else if (document.readyState == \"complete\") {\n",
       "        attempts++;\n",
       "        if (attempts > 100) {\n",
       "          clearInterval(timer);\n",
       "          console.log(\"Bokeh: ERROR: Unable to run BokehJS code because BokehJS library is missing\");\n",
       "        }\n",
       "      }\n",
       "    }, 10, root)\n",
       "  }\n",
       "})(window);</script>"
      ],
      "text/plain": [
       "HoloViews(Bars)"
      ]
     },
     "execution_count": 11,
     "metadata": {
      "application/vnd.holoviews_exec.v0+json": {
       "id": "1001"
      }
     },
     "output_type": "execute_result"
    }
   ],
   "source": [
    "sum_return_plot(joined_cumulative_returns_df, title = \"Summary of Cummulative Returns by CryptoCurrency vs Multiple Assets\")"
   ]
  },
  {
   "cell_type": "markdown",
   "metadata": {},
   "source": [
    "## Dashboarding"
   ]
  },
  {
   "cell_type": "code",
   "execution_count": 12,
   "metadata": {},
   "outputs": [
    {
     "data": {},
     "metadata": {},
     "output_type": "display_data"
    },
    {
     "data": {
      "application/vnd.holoviews_exec.v0+json": "",
      "text/html": [
       "<div id='1127'>\n",
       "\n",
       "\n",
       "\n",
       "\n",
       "\n",
       "  <div class=\"bk-root\" id=\"42ae02de-8db5-4195-a563-0545c54ab994\" data-root-id=\"1127\"></div>\n",
       "</div>\n",
       "<script type=\"application/javascript\">(function(root) {\n",
       "  function embed_document(root) {\n",
       "  var docs_json = {\"afc34822-a6db-4888-9327-6a5b468fae25\":{\"roots\":{\"references\":[{\"attributes\":{\"child\":{\"id\":\"1128\"},\"name\":\"Column01686\",\"title\":\"Overview\"},\"id\":\"1134\",\"type\":\"Panel\"},{\"attributes\":{\"child\":{\"id\":\"1145\"},\"name\":\"Conclusion\",\"title\":\"Conclusion\"},\"id\":\"1146\",\"type\":\"Panel\"},{\"attributes\":{\"client_comm_id\":\"cd560c9dd3b846579efa4fbb8df0079a\",\"comm_id\":\"faa5adc1f3414df19f2a8b5b68fa2aa0\",\"plot_id\":\"1127\"},\"id\":\"1147\",\"type\":\"panel.models.comm_manager.CommManager\"},{\"attributes\":{\"child\":{\"id\":\"1137\"},\"name\":\"Column01770\",\"title\":\"Correlation\"},\"id\":\"1138\",\"type\":\"Panel\"},{\"attributes\":{\"child\":{\"id\":\"1139\"},\"name\":\"Column01775\",\"title\":\"Risk\"},\"id\":\"1140\",\"type\":\"Panel\"},{\"attributes\":{\"background\":\"#F0F0F0\",\"children\":[{\"id\":\"1129\"},{\"id\":\"1130\"},{\"id\":\"1131\"},{\"id\":\"1132\"},{\"id\":\"1133\"}],\"height\":1000,\"margin\":[0,0,0,0],\"name\":\"Column01686\",\"sizing_mode\":\"fixed\",\"width\":700},\"id\":\"1128\",\"type\":\"Column\"},{\"attributes\":{\"css_classes\":[\"markdown\"],\"margin\":[5,5,5,5],\"name\":\"Markdown01670\",\"style\":{\"font-color\":\"navy\",\"font-family\":\"serif\"},\"text\":\"&lt;h1&gt;Crypto Analyzer&lt;/h1&gt;\"},\"id\":\"1129\",\"type\":\"panel.models.markup.HTML\"},{\"attributes\":{\"css_classes\":[\"markdown\"],\"margin\":[5,5,5,5],\"name\":\"Markdown01678\",\"text\":\"&lt;p&gt;&lt;strong&gt;Project Background&lt;/strong&gt; - How Does Your Crypto Portfolio Compare to the Major Markets and Other Cryptocurrencies?This question cannot be answered in the current cryptocurrency space. Our research suggests it is possible to construct the necessary dataframe, function call, and visual experience that would allow a user to compare their cryptocurrency selections to major indices such as the S&amp;amp;P 500, Gold, and Bitcoin. &lt;/p&gt;\"},\"id\":\"1130\",\"type\":\"panel.models.markup.HTML\"},{\"attributes\":{\"css_classes\":null,\"margin\":[5,5,5,5],\"name\":\"Conclusion\"},\"id\":\"1145\",\"type\":\"Spacer\"},{\"attributes\":{\"child\":{\"id\":\"1141\"},\"name\":\"Cummualative Returns\",\"title\":\"Cummualative Returns\"},\"id\":\"1142\",\"type\":\"Panel\"},{\"attributes\":{\"css_classes\":null,\"margin\":[0,0,0,0],\"name\":\"Column01693\"},\"id\":\"1135\",\"type\":\"Spacer\"},{\"attributes\":{\"child\":{\"id\":\"1143\"},\"name\":\"Column01849\",\"title\":\"Social\"},\"id\":\"1144\",\"type\":\"Panel\"},{\"attributes\":{\"css_classes\":[\"markdown\"],\"margin\":[5,5,5,5],\"name\":\"Markdown01680\",\"text\":\"&lt;h2&gt;Summary Analysis of Multiple Cryptocurrencies&lt;/h2&gt;\"},\"id\":\"1131\",\"type\":\"panel.models.markup.HTML\"},{\"attributes\":{\"child\":{\"id\":\"1135\"},\"name\":\"Column01693\",\"title\":\"Market Cap & Summary Analysis\"},\"id\":\"1136\",\"type\":\"Panel\"},{\"attributes\":{\"margin\":[5,5,5,5],\"name\":\"DataFrame01682\",\"text\":\"&lt;table border=&quot;0&quot; class=&quot;dataframe panel-df&quot;&gt;\\n  &lt;thead&gt;\\n    &lt;tr style=&quot;text-align: right;&quot;&gt;\\n      &lt;th&gt;&lt;/th&gt;\\n      &lt;th&gt;Price&lt;/th&gt;\\n      &lt;th&gt;Market Cap&lt;/th&gt;\\n      &lt;th&gt;24h Volume&lt;/th&gt;\\n      &lt;th&gt;24h Change&lt;/th&gt;\\n    &lt;/tr&gt;\\n    &lt;tr&gt;\\n      &lt;th&gt;Ticker&lt;/th&gt;\\n      &lt;th&gt;&lt;/th&gt;\\n      &lt;th&gt;&lt;/th&gt;\\n      &lt;th&gt;&lt;/th&gt;\\n      &lt;th&gt;&lt;/th&gt;\\n    &lt;/tr&gt;\\n  &lt;/thead&gt;\\n  &lt;tbody&gt;\\n    &lt;tr&gt;\\n      &lt;th&gt;.inx&lt;/th&gt;\\n      &lt;td&gt;3572.19&lt;/td&gt;\\n      &lt;td&gt;NaN&lt;/td&gt;\\n      &lt;td&gt;8.857605e+08&lt;/td&gt;\\n      &lt;td&gt;26.66&lt;/td&gt;\\n    &lt;/tr&gt;\\n    &lt;tr&gt;\\n      &lt;th&gt;gld&lt;/th&gt;\\n      &lt;td&gt;175.06&lt;/td&gt;\\n      &lt;td&gt;7.492996e+10&lt;/td&gt;\\n      &lt;td&gt;8.478560e+05&lt;/td&gt;\\n      &lt;td&gt;-0.60&lt;/td&gt;\\n    &lt;/tr&gt;\\n    &lt;tr&gt;\\n      &lt;th&gt;tlt&lt;/th&gt;\\n      &lt;td&gt;155.27&lt;/td&gt;\\n      &lt;td&gt;1.783880e+10&lt;/td&gt;\\n      &lt;td&gt;1.889939e+06&lt;/td&gt;\\n      &lt;td&gt;0.11&lt;/td&gt;\\n    &lt;/tr&gt;\\n    &lt;tr&gt;\\n      &lt;th&gt;bitcoin&lt;/th&gt;\\n      &lt;td&gt;15653.21&lt;/td&gt;\\n      &lt;td&gt;2.901890e+11&lt;/td&gt;\\n      &lt;td&gt;2.352832e+10&lt;/td&gt;\\n      &lt;td&gt;1.94&lt;/td&gt;\\n    &lt;/tr&gt;\\n    &lt;tr&gt;\\n      &lt;th&gt;chainlink&lt;/th&gt;\\n      &lt;td&gt;12.74&lt;/td&gt;\\n      &lt;td&gt;4.987154e+09&lt;/td&gt;\\n      &lt;td&gt;9.469612e+08&lt;/td&gt;\\n      &lt;td&gt;-2.71&lt;/td&gt;\\n    &lt;/tr&gt;\\n    &lt;tr&gt;\\n      &lt;th&gt;ethereum&lt;/th&gt;\\n      &lt;td&gt;458.85&lt;/td&gt;\\n      &lt;td&gt;5.202992e+10&lt;/td&gt;\\n      &lt;td&gt;1.150290e+10&lt;/td&gt;\\n      &lt;td&gt;-0.28&lt;/td&gt;\\n    &lt;/tr&gt;\\n    &lt;tr&gt;\\n      &lt;th&gt;polkadot&lt;/th&gt;\\n      &lt;td&gt;4.41&lt;/td&gt;\\n      &lt;td&gt;4.098610e+09&lt;/td&gt;\\n      &lt;td&gt;1.150800e+08&lt;/td&gt;\\n      &lt;td&gt;-1.27&lt;/td&gt;\\n    &lt;/tr&gt;\\n    &lt;tr&gt;\\n      &lt;th&gt;tellor&lt;/th&gt;\\n      &lt;td&gt;24.54&lt;/td&gt;\\n      &lt;td&gt;3.781952e+07&lt;/td&gt;\\n      &lt;td&gt;4.228614e+07&lt;/td&gt;\\n      &lt;td&gt;-0.10&lt;/td&gt;\\n    &lt;/tr&gt;\\n  &lt;/tbody&gt;\\n&lt;/table&gt;\"},\"id\":\"1132\",\"type\":\"panel.models.markup.HTML\"},{\"attributes\":{\"css_classes\":null,\"margin\":[0,0,0,0],\"name\":\"Column01770\"},\"id\":\"1137\",\"type\":\"Spacer\"},{\"attributes\":{\"css_classes\":null,\"margin\":[0,0,0,0],\"name\":\"Column01849\"},\"id\":\"1143\",\"type\":\"Spacer\"},{\"attributes\":{\"css_classes\":null,\"margin\":[0,0,0,0],\"name\":\"Column01775\"},\"id\":\"1139\",\"type\":\"Spacer\"},{\"attributes\":{\"margin\":[0,0,0,0],\"tabs\":[{\"id\":\"1134\"},{\"id\":\"1136\"},{\"id\":\"1138\"},{\"id\":\"1140\"},{\"id\":\"1142\"},{\"id\":\"1144\"},{\"id\":\"1146\"}]},\"id\":\"1127\",\"type\":\"Tabs\"},{\"attributes\":{\"height\":400,\"margin\":[5,5,5,5],\"name\":\"PNG01684\",\"text\":\"&lt;img src=&quot;data:image/png;base64,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&quot; width=&quot;625px&quot; height=&quot;400px&quot; alt=&quot;&quot;&gt;&lt;/img&gt;\",\"width\":625},\"id\":\"1133\",\"type\":\"panel.models.markup.HTML\"},{\"attributes\":{\"css_classes\":null,\"margin\":[5,5,5,5],\"name\":\"Cummualative Returns\"},\"id\":\"1141\",\"type\":\"Spacer\"}],\"root_ids\":[\"1127\",\"1147\"]},\"title\":\"Bokeh Application\",\"version\":\"2.1.1\"}};\n",
       "  var render_items = [{\"docid\":\"afc34822-a6db-4888-9327-6a5b468fae25\",\"root_ids\":[\"1127\"],\"roots\":{\"1127\":\"42ae02de-8db5-4195-a563-0545c54ab994\"}}];\n",
       "  root.Bokeh.embed.embed_items_notebook(docs_json, render_items);\n",
       "  }\n",
       "if (root.Bokeh !== undefined) {\n",
       "    embed_document(root);\n",
       "  } else {\n",
       "    var attempts = 0;\n",
       "    var timer = setInterval(function(root) {\n",
       "      if (root.Bokeh !== undefined) {\n",
       "        clearInterval(timer);\n",
       "        embed_document(root);\n",
       "      } else if (document.readyState == \"complete\") {\n",
       "        attempts++;\n",
       "        if (attempts > 100) {\n",
       "          clearInterval(timer);\n",
       "          console.log(\"Bokeh: ERROR: Unable to run BokehJS code because BokehJS library is missing\");\n",
       "        }\n",
       "      }\n",
       "    }, 10, root)\n",
       "  }\n",
       "})(window);</script>"
      ],
      "text/plain": [
       "Tabs(dynamic=True)\n",
       "    [0] Column(background='#F0F0F0', height=1000, sizing_mode='fixed', width=700)\n",
       "        [0] Markdown(str, style={'font-family': 'serif', ...})\n",
       "        [1] Markdown(str)\n",
       "        [2] Markdown(str)\n",
       "        [3] DataFrame(DataFrame)\n",
       "        [4] PNG(str)\n",
       "    [1] Column\n",
       "        [0] Markdown(str)\n",
       "        [1] Markdown(str)\n",
       "        [2] Plotly(Figure)\n",
       "        [3] Plotly(Figure)\n",
       "    [2] Column\n",
       "        [0] Markdown(str)\n",
       "        [1] Markdown(str)\n",
       "        [2] HoloViews(HeatMap)\n",
       "    [3] Column\n",
       "        [0] Plotly(Figure)\n",
       "        [1] Plotly(Figure)\n",
       "    [4] Plotly(Figure, name='Cummualative Returns')\n",
       "    [5] Column\n",
       "        [0] Markdown(str)\n",
       "        [1] Markdown(str)\n",
       "        [2] HoloViews(Bars)\n",
       "    [6] Markdown(str, name='Conclusion')"
      ]
     },
     "execution_count": 12,
     "metadata": {
      "application/vnd.holoviews_exec.v0+json": {
       "id": "1127"
      }
     },
     "output_type": "execute_result"
    }
   ],
   "source": [
    "# row_1 = pn.Row(\n",
    "#     social_plot(social_df, title = \"Social Metrics By CryptoCurrency\")\n",
    "# ),\n",
    "# row_2 = pn.Row(\n",
    "#     volume(), test_bar()\n",
    "# )\n",
    "portfolio_list_select = pn.widgets.MultiSelect(name='Portfolio', options=['bitcoin', 'ethereum', 'chainlink', 'polkadot', 'tellor'])\n",
    "\n",
    "title1 = pn.pane.Markdown('# Crypto Analyzer', style={'font-family': \"serif\", \"font-color\":\"navy\"})\n",
    "title2 = pn.pane.Markdown('# Summary of Returns and Market Cap') \n",
    "title3 = pn.pane.Markdown ('# How correlated is my portfolio?')\n",
    "title4 = pn.pane.Markdown ('# Social Metrics Analysis of Cryptocurrencies')\n",
    "overview_column = pn.Column(title1,\n",
    "    '**Project Background** - '\n",
    "    'How Does Your Crypto Portfolio Compare '\n",
    "    'to the Major Markets and Other Cryptocurrencies?'\n",
    "    'This question cannot be answered in the current cryptocurrency space. '\n",
    "    'Our research suggests it is possible to construct the necessary dataframe, '\n",
    "    'function call, and visual experience that would allow a user to compare their '\n",
    "    'cryptocurrency selections to major indices such as the S&P 500, Gold, and Bitcoin. ',\n",
    "    '## Summary Analysis of Multiple Cryptocurrencies',\n",
    "    portfolio_df_final,\n",
    "    \"https://freepngimg.com/thumb/bitcoin/59654-offering-exchange-\"\n",
    "    \"initial-bitcoin-cryptocurrency-currency-digital.png\",\n",
    "    background='#F0F0F0', width=700, height=1000\n",
    ")\n",
    "cumulative_retruns_column = (cumulative_returns_plot(joined_cumulative_returns_df, title = \"Cryptocurrencies vs Multiple Assets Cumulative Returns\"))# sum_return_plot(joined_cumulative_returns_df, title = \"Summary of Cummulative Returns by CryptoCurrency vs Multiple Assets\"))\n",
    "\n",
    "summary_column = pn.Column(title2, 'How is my cryptocurrency portfolio performing in the last 24hrs compared to various assets?', price_summary_df_plot, price_market_cap_plot(portfolio_df))\n",
    "\n",
    "correlation_column = pn.Column(title3, 'This heatmap portrays the relationship between multiple asset types. As shown ...', correlation_plot(joined_correlation_df, title = 'Correlation Analysis of Multiple Assets with Cryptocurrencies'))\n",
    "\n",
    "risk_column = pn.Column(rolling_beta_plot(joined_beta_df, period=21, title = 'Rolling Beta Analysis of Multiple Assets and Cryptocurrencies'), sharpe_ratios_plot(joined_sharpe_ratios, title = 'Sharpe Ratio Analysis of Multiple Assets with Cryptocurrencies'))\n",
    "#row1 = pn.Row(risk_column,cumulative_retruns_column)\n",
    "social_column = pn.Column(title4,'How hot is the topic of specific cryptocurrencies on social media? This analysis provides an insight on trending cryptocurrencies', social_plot(social_df, title = \"Social Metrics for Multiple CryptoCurrencies\"))\n",
    "\n",
    "\n",
    "test_dashboard = pn.Tabs(\n",
    "    (\"Overview\", overview_column),\n",
    "    (\"Market Cap & Summary Analysis\", summary_column),\n",
    "    (\"Correlation\", correlation_column),\n",
    "    (\"Risk\", risk_column),\n",
    "    (\"Cummualative Returns\",cumulative_retruns_column),\n",
    "    (\"Social\", social_column),\n",
    "    (\"Conclusion\", 'Cryptocurrency has been..'),\n",
    "    dynamic=True,\n",
    "    tabs_location=\"above\",\n",
    ")\n",
    "#test_dashboard_final = pn.Column(test_dashboard)\n",
    "test_dashboard"
   ]
  }
 ],
 "metadata": {
  "kernelspec": {
   "display_name": "Python [conda env:pyvizenv] *",
   "language": "python",
   "name": "conda-env-pyvizenv-py"
  },
  "language_info": {
   "codemirror_mode": {
    "name": "ipython",
    "version": 3
   },
   "file_extension": ".py",
   "mimetype": "text/x-python",
   "name": "python",
   "nbconvert_exporter": "python",
   "pygments_lexer": "ipython3",
   "version": "3.7.7"
  }
 },
 "nbformat": 4,
 "nbformat_minor": 4
}
